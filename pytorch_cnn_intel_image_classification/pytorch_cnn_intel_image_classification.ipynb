{
 "cells": [
  {
   "cell_type": "markdown",
   "metadata": {},
   "source": [
    "Article: https://www.embedded-robotics.com/\\\n",
    "Code: Image Classification using Convolution Neural Network\\\n",
    "Prepared By: Awais Naeem (awais.naeem@embedded-robotics.com)\\\n",
    "Copyrights: www.embedded-robotics.com\\\n",
    "Disclaimer: This code can be distributed with the proper mention of the owner copyrights"
   ]
  },
  {
   "cell_type": "code",
   "execution_count": 2,
   "metadata": {},
   "outputs": [],
   "source": [
    "import os\n",
    "import pandas as pd\n",
    "import numpy as np\n",
    "import matplotlib.pyplot as plt\n",
    "import torch\n",
    "import torch.nn as nn\n",
    "import torch.utils.data as torch_data\n",
    "import torch.optim as optim\n",
    "from sklearn.metrics import accuracy_score\n",
    "from skimage.io import imread\n",
    "from skimage.transform import resize"
   ]
  },
  {
   "cell_type": "markdown",
   "metadata": {},
   "source": [
    "Intel Data: https://www.kaggle.com/datasets/puneet6060/intel-image-classification"
   ]
  },
  {
   "cell_type": "code",
   "execution_count": 3,
   "metadata": {},
   "outputs": [],
   "source": [
    "home = os.path.expanduser('~')"
   ]
  },
  {
   "cell_type": "code",
   "execution_count": 4,
   "metadata": {},
   "outputs": [],
   "source": [
    "classes_dict = {'buildings':0, 'forest':1, 'glacier':2, 'mountain':3, 'sea':4, 'street':5}"
   ]
  },
  {
   "cell_type": "code",
   "execution_count": 5,
   "metadata": {},
   "outputs": [],
   "source": [
    "train_data_path = os.path.join(home, \".torch/datasets/intel/seg_train/seg_train\")\n",
    "test_data_path = os.path.join(home, \".torch/datasets/intel/seg_test/seg_test\")"
   ]
  },
  {
   "cell_type": "code",
   "execution_count": 6,
   "metadata": {},
   "outputs": [],
   "source": [
    "train_X = []\n",
    "train_y = []\n",
    "for (out_class, out_label) in classes_dict.items():\n",
    "    class_path = os.path.join(train_data_path, out_class)\n",
    "    class_img_list = os.listdir(class_path)\n",
    "    \n",
    "    for img_name in class_img_list:\n",
    "        img_path = os.path.join(class_path, img_name)\n",
    "        img = imread(img_path)\n",
    "        img = img/255.0\n",
    "        img = resize(img, (150,150,3), anti_aliasing=True)\n",
    "        train_X.append(img)\n",
    "        train_y.append(out_label)"
   ]
  },
  {
   "cell_type": "code",
   "execution_count": 7,
   "metadata": {},
   "outputs": [],
   "source": [
    "test_X = []\n",
    "test_y = []\n",
    "for (out_class, out_label) in classes_dict.items():\n",
    "    class_path = os.path.join(test_data_path, out_class)\n",
    "    class_img_list = os.listdir(class_path)\n",
    "    \n",
    "    for img_name in class_img_list:\n",
    "        img_path = os.path.join(class_path, img_name)\n",
    "        img = imread(img_path)\n",
    "        img = img/255.0\n",
    "        img = resize(img, (150,150,3), anti_aliasing=True)\n",
    "        test_X.append(img)\n",
    "        test_y.append(out_label)"
   ]
  },
  {
   "cell_type": "code",
   "execution_count": 8,
   "metadata": {},
   "outputs": [
    {
     "ename": "",
     "evalue": "",
     "output_type": "error",
     "traceback": [
      "\u001b[1;31mCanceled future for execute_request message before replies were done"
     ]
    },
    {
     "ename": "",
     "evalue": "",
     "output_type": "error",
     "traceback": [
      "\u001b[1;31mThe Kernel crashed while executing code in the the current cell or a previous cell. Please review the code in the cell(s) to identify a possible cause of the failure. Click <a href='https://aka.ms/vscodeJupyterKernelCrash'>here</a> for more info. View Jupyter <a href='command:jupyter.viewOutput'>log</a> for further details."
     ]
    }
   ],
   "source": [
    "np.shape(train_X)"
   ]
  },
  {
   "cell_type": "code",
   "execution_count": 7,
   "metadata": {},
   "outputs": [
    {
     "ename": "",
     "evalue": "",
     "output_type": "error",
     "traceback": [
      "\u001b[1;31mCanceled future for execute_request message before replies were done"
     ]
    },
    {
     "ename": "",
     "evalue": "",
     "output_type": "error",
     "traceback": [
      "\u001b[1;31mThe Kernel crashed while executing code in the the current cell or a previous cell. Please review the code in the cell(s) to identify a possible cause of the failure. Click <a href='https://aka.ms/vscodeJupyterKernelCrash'>here</a> for more info. View Jupyter <a href='command:jupyter.viewOutput'>log</a> for further details."
     ]
    }
   ],
   "source": [
    "train_X = np.array(train_X)\n",
    "train_y = np.array(train_y)\n",
    "test_X = np.array(test_X)\n",
    "test_y = np.array(test_y)"
   ]
  },
  {
   "cell_type": "code",
   "execution_count": null,
   "metadata": {},
   "outputs": [],
   "source": [
    "print('Train X:', train_X.shape)\n",
    "print('Train y:', train_y.shape)\n",
    "print('Train X:', test_X.shape)\n",
    "print('Train y:', test_y.shape)"
   ]
  },
  {
   "cell_type": "code",
   "execution_count": null,
   "metadata": {},
   "outputs": [],
   "source": [
    "plt.figure(figsize=(10,10))\n",
    "plt.subplot(221)\n",
    "plt.imshow(train_X[0], cmap='gray')\n",
    "plt.subplot(222)\n",
    "plt.imshow(train_X[20], cmap='gray')\n",
    "plt.subplot(223)\n",
    "plt.imshow(train_X[60], cmap='gray')\n",
    "plt.subplot(224)\n",
    "plt.imshow(train_X[120], cmap='gray')\n",
    "plt.show()"
   ]
  },
  {
   "cell_type": "code",
   "execution_count": null,
   "metadata": {},
   "outputs": [],
   "source": [
    "plt.figure(figsize=(10,10))\n",
    "plt.subplot(221)\n",
    "plt.imshow(test_X[0], cmap='gray')\n",
    "plt.subplot(222)\n",
    "plt.imshow(test_X[20], cmap='gray')\n",
    "plt.subplot(223)\n",
    "plt.imshow(test_X[60], cmap='gray')\n",
    "plt.subplot(224)\n",
    "plt.imshow(test_X[120], cmap='gray')\n",
    "plt.show()"
   ]
  },
  {
   "cell_type": "code",
   "execution_count": null,
   "metadata": {},
   "outputs": [],
   "source": [
    "tensor_train_X = torch.from_numpy(train_X).float()\n",
    "tensor_train_y = torch.from_numpy(train_y).long()\n",
    "tensor_test_X = torch.from_numpy(test_X).float()\n",
    "tensor_test_y = torch.from_numpy(test_y).long()"
   ]
  },
  {
   "cell_type": "code",
   "execution_count": null,
   "metadata": {},
   "outputs": [],
   "source": [
    "tensor_train_X = tensor_train_X.permute((0,3,1,2))\n",
    "tensor_test_X = tensor_test_X.permute((0,3,1,2))"
   ]
  },
  {
   "cell_type": "code",
   "execution_count": null,
   "metadata": {},
   "outputs": [],
   "source": [
    "tensor_train_dataset = torch_data.TensorDataset(tensor_train_X, tensor_train_y)\n",
    "tensor_test_dataset = torch_data.TensorDataset(tensor_test_X, tensor_test_y)"
   ]
  },
  {
   "cell_type": "code",
   "execution_count": null,
   "metadata": {},
   "outputs": [],
   "source": [
    "train_dl = torch_data.DataLoader(tensor_train_dataset, batch_size=64, shuffle=True)\n",
    "test_dl = torch_data.DataLoader(tensor_test_dataset, batch_size=16, shuffle=False)"
   ]
  },
  {
   "cell_type": "markdown",
   "metadata": {},
   "source": [
    "Using LeNet Architecture for Deep Learning Model\n",
    "\n",
    "Image Size Calculation: [(W-K+2P)/S] + 1; W = Width of Input Image, K = Kernel Size, P = Padding, S = Stride"
   ]
  },
  {
   "cell_type": "code",
   "execution_count": null,
   "metadata": {},
   "outputs": [],
   "source": [
    "class LeNet (nn.Module):\n",
    "    def __init__ (self, n_channels, classes):\n",
    "        super(LeNet, self).__init__() #3*150*150\n",
    "        \n",
    "        self.conv1 = nn.Conv2d(in_channels=n_channels, out_channels=20, kernel_size=(5,5)) #20*146*146\n",
    "        self.relu1 = nn.ReLU()\n",
    "        self.maxpool1 = nn.MaxPool2d(kernel_size=(2,2), stride=(2,2)) ##20*73*73\n",
    "        \n",
    "        self.conv2 = nn.Conv2d(in_channels=20, out_channels=50, kernel_size=(5,5)) #50*69*69\n",
    "        self.relu2 = nn.ReLU()\n",
    "        self.maxpool2 = nn.MaxPool2d(kernel_size=(2,2), stride=(2,2)) #50*34*34\n",
    "        \n",
    "        self.fc1 = nn.Linear(in_features=57800, out_features=1024)\n",
    "        self.relu3 = nn.ReLU()\n",
    "\n",
    "        self.fc2 = nn.Linear(in_features=1024, out_features=512)\n",
    "        self.relu4 = nn.ReLU()\n",
    "        \n",
    "        self.fc3 = nn.Linear(in_features=512, out_features=classes)\n",
    "        self.Softmax = nn.Softmax(dim=1)\n",
    "    \n",
    "    def forward (self, x):\n",
    "        x = self.conv1(x)\n",
    "        x = self.relu1(x)\n",
    "        x = self.maxpool1(x)\n",
    "        \n",
    "        x = self.conv2(x)\n",
    "        x = self.relu2(x)\n",
    "        x = self.maxpool2(x)\n",
    "        \n",
    "        x = x.view(-1,50*34*34)\n",
    "        x = self.fc1(x)\n",
    "        x = self.relu3(x)\n",
    "\n",
    "        x = self.fc2(x)\n",
    "        x = self.relu4(x)\n",
    "        \n",
    "        x = self.fc3(x)\n",
    "        output = self.Softmax(x)\n",
    "        \n",
    "        return output"
   ]
  },
  {
   "cell_type": "code",
   "execution_count": 1,
   "metadata": {},
   "outputs": [],
   "source": [
    "def train_model(model, train_dl, learning_rate, epochs):\n",
    "    \n",
    "    criterion = nn.CrossEntropyLoss()\n",
    "    optimizer = optim.Adam(model.parameters(), lr=learning_rate)\n",
    "    \n",
    "    for epoch in range(epochs):\n",
    "        \n",
    "        model.train()\n",
    "        \n",
    "        totalTrainLoss = 0;\n",
    "        train_steps = 0;\n",
    "        \n",
    "        for (inputs, targets) in train_dl:\n",
    "            optimizer.zero_grad()\n",
    "            yhat = model(inputs)\n",
    "            loss = criterion(yhat,targets.squeeze())\n",
    "            loss.backward()\n",
    "            optimizer.step()\n",
    "            \n",
    "            totalTrainLoss = totalTrainLoss + loss\n",
    "            train_steps = train_steps + 1\n",
    "\n",
    "        avgTrainLoss = totalTrainLoss.detach().numpy()/train_steps\n",
    "        print('[EPOCH {}] -> Training Loss: [{}]'.format(epoch, avgTrainLoss))\n",
    "        "
   ]
  },
  {
   "cell_type": "code",
   "execution_count": null,
   "metadata": {},
   "outputs": [],
   "source": [
    "model = LeNet(3, 6)"
   ]
  },
  {
   "cell_type": "code",
   "execution_count": null,
   "metadata": {},
   "outputs": [],
   "source": [
    "train_model(model, train_dl, learning_rate=0.01, epochs=20)"
   ]
  },
  {
   "cell_type": "code",
   "execution_count": null,
   "metadata": {},
   "outputs": [],
   "source": [
    "def evaluate_model(model, test_dl):\n",
    "    \n",
    "    with torch.no_grad():\n",
    "        model.eval()\n",
    "        predictions, actuals = list(), list()\n",
    "        for (inputs, targets) in test_dl:\n",
    "            yhat = model(inputs)\n",
    "            yhat = yhat.detach().numpy()\n",
    "            yhat = np.argmax(yhat, axis=1)\n",
    "            yhat = yhat.reshape(-1,1)\n",
    "            actual = targets.numpy()\n",
    "            actual = actual.reshape(-1,1)\n",
    "            predictions.append(yhat)\n",
    "            actuals.append(actual)\n",
    "        predictions, actuals = np.vstack(predictions), np.vstack(actuals)\n",
    "        return accuracy_score(actuals, predictions)\n",
    "        "
   ]
  },
  {
   "cell_type": "code",
   "execution_count": null,
   "metadata": {},
   "outputs": [],
   "source": [
    "train_accuracy = evaluate_model(model, train_dl)\n",
    "print('Train Data Accuracy: {}%'.format(train_accuracy*100))"
   ]
  },
  {
   "cell_type": "code",
   "execution_count": null,
   "metadata": {},
   "outputs": [],
   "source": [
    "test_accuracy = evaluate_model(model, test_dl)\n",
    "print('Test Data Accuracy: {}%'.format(test_accuracy*100))"
   ]
  },
  {
   "cell_type": "code",
   "execution_count": null,
   "metadata": {},
   "outputs": [],
   "source": []
  },
  {
   "cell_type": "code",
   "execution_count": null,
   "metadata": {},
   "outputs": [],
   "source": []
  },
  {
   "cell_type": "code",
   "execution_count": null,
   "metadata": {},
   "outputs": [],
   "source": []
  },
  {
   "cell_type": "code",
   "execution_count": null,
   "metadata": {},
   "outputs": [],
   "source": []
  },
  {
   "cell_type": "code",
   "execution_count": null,
   "metadata": {},
   "outputs": [],
   "source": []
  },
  {
   "cell_type": "code",
   "execution_count": null,
   "metadata": {},
   "outputs": [],
   "source": []
  },
  {
   "cell_type": "code",
   "execution_count": null,
   "metadata": {},
   "outputs": [],
   "source": []
  },
  {
   "cell_type": "code",
   "execution_count": null,
   "metadata": {},
   "outputs": [],
   "source": []
  },
  {
   "cell_type": "code",
   "execution_count": null,
   "metadata": {},
   "outputs": [],
   "source": []
  },
  {
   "cell_type": "code",
   "execution_count": null,
   "metadata": {},
   "outputs": [],
   "source": []
  },
  {
   "cell_type": "code",
   "execution_count": null,
   "metadata": {},
   "outputs": [],
   "source": []
  },
  {
   "cell_type": "code",
   "execution_count": null,
   "metadata": {},
   "outputs": [],
   "source": []
  },
  {
   "cell_type": "code",
   "execution_count": null,
   "metadata": {},
   "outputs": [],
   "source": []
  },
  {
   "cell_type": "code",
   "execution_count": null,
   "metadata": {},
   "outputs": [],
   "source": []
  },
  {
   "cell_type": "code",
   "execution_count": null,
   "metadata": {},
   "outputs": [],
   "source": []
  },
  {
   "cell_type": "code",
   "execution_count": null,
   "metadata": {},
   "outputs": [],
   "source": []
  },
  {
   "cell_type": "code",
   "execution_count": null,
   "metadata": {},
   "outputs": [],
   "source": []
  },
  {
   "cell_type": "code",
   "execution_count": null,
   "metadata": {},
   "outputs": [],
   "source": []
  },
  {
   "cell_type": "code",
   "execution_count": null,
   "metadata": {},
   "outputs": [],
   "source": []
  }
 ],
 "metadata": {
  "interpreter": {
   "hash": "9ba8fe1ea37d8fab6aa2152f3b1f7bdb1ce3c036a65ce11248e194528f488cec"
  },
  "kernelspec": {
   "display_name": "Python 3.9.12 ('aws_labs')",
   "language": "python",
   "name": "python3"
  },
  "language_info": {
   "codemirror_mode": {
    "name": "ipython",
    "version": 3
   },
   "file_extension": ".py",
   "mimetype": "text/x-python",
   "name": "python",
   "nbconvert_exporter": "python",
   "pygments_lexer": "ipython3",
   "version": "3.9.12"
  },
  "orig_nbformat": 4
 },
 "nbformat": 4,
 "nbformat_minor": 2
}
