{
 "cells": [
  {
   "cell_type": "markdown",
   "metadata": {},
   "source": [
    "Article: https://www.embedded-robotics.com/\\\n",
    "Code: Text Classification using Glove Word Embeddings\\\n",
    "Prepared By: Awais Naeem (awais.naeem@embedded-robotics.com)\\\n",
    "Copyrights: www.embedded-robotics.com\\\n",
    "Disclaimer: This code can be distributed with the proper mention of the owner copyrights"
   ]
  },
  {
   "cell_type": "code",
   "execution_count": 1,
   "metadata": {},
   "outputs": [],
   "source": [
    "import os\n",
    "import re\n",
    "import nltk\n",
    "import pandas as pd\n",
    "import numpy as np\n",
    "import seaborn as sns\n",
    "import matplotlib.pyplot as plt\n",
    "from nltk.tokenize import word_tokenize\n",
    "from nltk import pos_tag\n",
    "from nltk.corpus import stopwords, wordnet\n",
    "from nltk.stem import WordNetLemmatizer\n",
    "from sklearn.datasets import fetch_20newsgroups\n",
    "from tensorflow.keras import layers\n",
    "from tensorflow.keras.models import Sequential\n",
    "from tensorflow.keras.preprocessing.text import Tokenizer\n",
    "from tensorflow.keras.preprocessing.sequence import pad_sequences"
   ]
  },
  {
   "cell_type": "code",
   "execution_count": 2,
   "metadata": {},
   "outputs": [
    {
     "name": "stderr",
     "output_type": "stream",
     "text": [
      "[nltk_data] Downloading package punkt to\n",
      "[nltk_data]     /home/awais.naeem@ebryx.com/nltk_data...\n",
      "[nltk_data]   Package punkt is already up-to-date!\n",
      "[nltk_data] Downloading package averaged_perceptron_tagger to\n",
      "[nltk_data]     /home/awais.naeem@ebryx.com/nltk_data...\n",
      "[nltk_data]   Package averaged_perceptron_tagger is already up-to-\n",
      "[nltk_data]       date!\n",
      "[nltk_data] Downloading package wordnet to\n",
      "[nltk_data]     /home/awais.naeem@ebryx.com/nltk_data...\n",
      "[nltk_data]   Package wordnet is already up-to-date!\n",
      "[nltk_data] Downloading package stopwords to\n",
      "[nltk_data]     /home/awais.naeem@ebryx.com/nltk_data...\n",
      "[nltk_data]   Package stopwords is already up-to-date!\n",
      "[nltk_data] Downloading package omw-1.4 to\n",
      "[nltk_data]     /home/awais.naeem@ebryx.com/nltk_data...\n",
      "[nltk_data]   Package omw-1.4 is already up-to-date!\n"
     ]
    },
    {
     "data": {
      "text/plain": [
       "True"
      ]
     },
     "execution_count": 2,
     "metadata": {},
     "output_type": "execute_result"
    }
   ],
   "source": [
    "nltk.download(\"punkt\")\n",
    "nltk.download(\"averaged_perceptron_tagger\")\n",
    "nltk.download(\"wordnet\")\n",
    "nltk.download(\"stopwords\")\n",
    "nltk.download('omw-1.4')"
   ]
  },
  {
   "cell_type": "code",
   "execution_count": 3,
   "metadata": {},
   "outputs": [],
   "source": [
    "newsgroup_train = fetch_20newsgroups(subset='train', shuffle=True)\n",
    "newsgroup_test = fetch_20newsgroups(subset='test', shuffle=True)"
   ]
  },
  {
   "cell_type": "code",
   "execution_count": 4,
   "metadata": {},
   "outputs": [
    {
     "name": "stdout",
     "output_type": "stream",
     "text": [
      "['alt.atheism', 'comp.graphics', 'comp.os.ms-windows.misc', 'comp.sys.ibm.pc.hardware', 'comp.sys.mac.hardware', 'comp.windows.x', 'misc.forsale', 'rec.autos', 'rec.motorcycles', 'rec.sport.baseball', 'rec.sport.hockey', 'sci.crypt', 'sci.electronics', 'sci.med', 'sci.space', 'soc.religion.christian', 'talk.politics.guns', 'talk.politics.mideast', 'talk.politics.misc', 'talk.religion.misc']\n"
     ]
    }
   ],
   "source": [
    "print(newsgroup_train.target_names)"
   ]
  },
  {
   "cell_type": "code",
   "execution_count": 5,
   "metadata": {},
   "outputs": [
    {
     "data": {
      "text/html": [
       "<div>\n",
       "<style scoped>\n",
       "    .dataframe tbody tr th:only-of-type {\n",
       "        vertical-align: middle;\n",
       "    }\n",
       "\n",
       "    .dataframe tbody tr th {\n",
       "        vertical-align: top;\n",
       "    }\n",
       "\n",
       "    .dataframe thead th {\n",
       "        text-align: right;\n",
       "    }\n",
       "</style>\n",
       "<table border=\"1\" class=\"dataframe\">\n",
       "  <thead>\n",
       "    <tr style=\"text-align: right;\">\n",
       "      <th></th>\n",
       "      <th>article</th>\n",
       "      <th>label</th>\n",
       "    </tr>\n",
       "  </thead>\n",
       "  <tbody>\n",
       "    <tr>\n",
       "      <th>0</th>\n",
       "      <td>From: lerxst@wam.umd.edu (where's my thing)\\nS...</td>\n",
       "      <td>7</td>\n",
       "    </tr>\n",
       "    <tr>\n",
       "      <th>1</th>\n",
       "      <td>From: guykuo@carson.u.washington.edu (Guy Kuo)...</td>\n",
       "      <td>4</td>\n",
       "    </tr>\n",
       "    <tr>\n",
       "      <th>2</th>\n",
       "      <td>From: twillis@ec.ecn.purdue.edu (Thomas E Will...</td>\n",
       "      <td>4</td>\n",
       "    </tr>\n",
       "    <tr>\n",
       "      <th>3</th>\n",
       "      <td>From: jgreen@amber (Joe Green)\\nSubject: Re: W...</td>\n",
       "      <td>1</td>\n",
       "    </tr>\n",
       "    <tr>\n",
       "      <th>4</th>\n",
       "      <td>From: jcm@head-cfa.harvard.edu (Jonathan McDow...</td>\n",
       "      <td>14</td>\n",
       "    </tr>\n",
       "  </tbody>\n",
       "</table>\n",
       "</div>"
      ],
      "text/plain": [
       "                                             article  label\n",
       "0  From: lerxst@wam.umd.edu (where's my thing)\\nS...      7\n",
       "1  From: guykuo@carson.u.washington.edu (Guy Kuo)...      4\n",
       "2  From: twillis@ec.ecn.purdue.edu (Thomas E Will...      4\n",
       "3  From: jgreen@amber (Joe Green)\\nSubject: Re: W...      1\n",
       "4  From: jcm@head-cfa.harvard.edu (Jonathan McDow...     14"
      ]
     },
     "execution_count": 5,
     "metadata": {},
     "output_type": "execute_result"
    }
   ],
   "source": [
    "df_train = pd.DataFrame({'article': newsgroup_train.data, 'label': newsgroup_train.target})\n",
    "df_train.head()"
   ]
  },
  {
   "cell_type": "code",
   "execution_count": 6,
   "metadata": {},
   "outputs": [
    {
     "data": {
      "text/html": [
       "<div>\n",
       "<style scoped>\n",
       "    .dataframe tbody tr th:only-of-type {\n",
       "        vertical-align: middle;\n",
       "    }\n",
       "\n",
       "    .dataframe tbody tr th {\n",
       "        vertical-align: top;\n",
       "    }\n",
       "\n",
       "    .dataframe thead th {\n",
       "        text-align: right;\n",
       "    }\n",
       "</style>\n",
       "<table border=\"1\" class=\"dataframe\">\n",
       "  <thead>\n",
       "    <tr style=\"text-align: right;\">\n",
       "      <th></th>\n",
       "      <th>article</th>\n",
       "      <th>label</th>\n",
       "    </tr>\n",
       "  </thead>\n",
       "  <tbody>\n",
       "    <tr>\n",
       "      <th>0</th>\n",
       "      <td>From: v064mb9k@ubvmsd.cc.buffalo.edu (NEIL B. ...</td>\n",
       "      <td>7</td>\n",
       "    </tr>\n",
       "    <tr>\n",
       "      <th>1</th>\n",
       "      <td>From: Rick Miller &lt;rick@ee.uwm.edu&gt;\\nSubject: ...</td>\n",
       "      <td>5</td>\n",
       "    </tr>\n",
       "    <tr>\n",
       "      <th>2</th>\n",
       "      <td>From: mathew &lt;mathew@mantis.co.uk&gt;\\nSubject: R...</td>\n",
       "      <td>0</td>\n",
       "    </tr>\n",
       "    <tr>\n",
       "      <th>3</th>\n",
       "      <td>From: bakken@cs.arizona.edu (Dave Bakken)\\nSub...</td>\n",
       "      <td>17</td>\n",
       "    </tr>\n",
       "    <tr>\n",
       "      <th>4</th>\n",
       "      <td>From: livesey@solntze.wpd.sgi.com (Jon Livesey...</td>\n",
       "      <td>19</td>\n",
       "    </tr>\n",
       "  </tbody>\n",
       "</table>\n",
       "</div>"
      ],
      "text/plain": [
       "                                             article  label\n",
       "0  From: v064mb9k@ubvmsd.cc.buffalo.edu (NEIL B. ...      7\n",
       "1  From: Rick Miller <rick@ee.uwm.edu>\\nSubject: ...      5\n",
       "2  From: mathew <mathew@mantis.co.uk>\\nSubject: R...      0\n",
       "3  From: bakken@cs.arizona.edu (Dave Bakken)\\nSub...     17\n",
       "4  From: livesey@solntze.wpd.sgi.com (Jon Livesey...     19"
      ]
     },
     "execution_count": 6,
     "metadata": {},
     "output_type": "execute_result"
    }
   ],
   "source": [
    "df_test = pd.DataFrame({'article': newsgroup_test.data, 'label': newsgroup_test.target})\n",
    "df_test.head()"
   ]
  },
  {
   "cell_type": "markdown",
   "metadata": {},
   "source": [
    "### Exploratory Data Analysis"
   ]
  },
  {
   "cell_type": "code",
   "execution_count": 7,
   "metadata": {},
   "outputs": [
    {
     "data": {
      "image/png": "[encoded data removed]",
      "text/plain": [
       "<Figure size 720x576 with 1 Axes>"
      ]
     },
     "metadata": {
      "needs_background": "light"
     },
     "output_type": "display_data"
    }
   ],
   "source": [
    "df_train['word_count'] = df_train['article'].apply(lambda x: len(str(x).split()))\n",
    "plt.figure(figsize=(10,8))\n",
    "sns.histplot(data=df_train, x='word_count')\n",
    "plt.title('Word Count of Articles in Train Data')\n",
    "plt.xlabel('Word Count')\n",
    "plt.ylabel('Article Count')\n",
    "plt.show()"
   ]
  },
  {
   "cell_type": "code",
   "execution_count": 8,
   "metadata": {},
   "outputs": [
    {
     "name": "stdout",
     "output_type": "stream",
     "text": [
      "Percentage of Training Articles having less than 1000 Words:96.80%\n"
     ]
    }
   ],
   "source": [
    "train_articles = (sum(df_train['word_count'] < 1000)/df_train.shape[0])*100\n",
    "print('Percentage of Training Articles having less than 1000 Words:{:.2f}%'.format(train_articles))"
   ]
  },
  {
   "cell_type": "code",
   "execution_count": 9,
   "metadata": {},
   "outputs": [
    {
     "data": {
      "image/png": "[encoded data removed]",
      "text/plain": [
       "<Figure size 720x576 with 1 Axes>"
      ]
     },
     "metadata": {
      "needs_background": "light"
     },
     "output_type": "display_data"
    }
   ],
   "source": [
    "df_test['word_count'] = df_test['article'].apply(lambda x: len(str(x).split()))\n",
    "plt.figure(figsize=(10,8))\n",
    "sns.histplot(data=df_test, x='word_count')\n",
    "plt.title('Word Count of Articles in Test Data')\n",
    "plt.xlabel('Word Count')\n",
    "plt.ylabel('Article Count')\n",
    "plt.show()"
   ]
  },
  {
   "cell_type": "code",
   "execution_count": 10,
   "metadata": {},
   "outputs": [
    {
     "name": "stdout",
     "output_type": "stream",
     "text": [
      "Percentage of Test Articles having less than 1000 Words:97.09%\n"
     ]
    }
   ],
   "source": [
    "test_articles = (sum(df_test['word_count'] < 1000)/df_test.shape[0])*100\n",
    "print('Percentage of Test Articles having less than 1000 Words:{:.2f}%'.format(test_articles))"
   ]
  },
  {
   "cell_type": "code",
   "execution_count": 11,
   "metadata": {},
   "outputs": [
    {
     "data": {
      "image/png": "[encoded data removed]",
      "text/plain": [
       "<Figure size 1080x720 with 1 Axes>"
      ]
     },
     "metadata": {
      "needs_background": "light"
     },
     "output_type": "display_data"
    }
   ],
   "source": [
    "plt.figure(figsize=(15,10))\n",
    "sns.countplot(data=df_train, x='label')\n",
    "plt.title('Train Data Topics Distribution')\n",
    "plt.xlabel('Article Topics')\n",
    "plt.ylabel('Topic Count')\n",
    "plt.show()"
   ]
  },
  {
   "cell_type": "markdown",
   "metadata": {},
   "source": [
    "### Data Cleaning and Pre-processing:\n",
    "1. Remove pre and post spaces\n",
    "2. Lower the case of tweet's text\n",
    "3. Substitute new line chracter with spaces\n",
    "4. Remove punctuation and special characters\n",
    "5. Remove Stopwords\n",
    "6. Word Lemmatization\n",
    "7. Preparing feature space vectors"
   ]
  },
  {
   "cell_type": "code",
   "execution_count": 12,
   "metadata": {},
   "outputs": [],
   "source": [
    "def get_wordnet_pos (tag):\n",
    "    if tag.startswith('J'):\n",
    "        return wordnet.ADJ\n",
    "    elif tag.startswith('V'):\n",
    "        return wordnet.VERB\n",
    "    elif tag.startswith('N'):\n",
    "        return wordnet.NOUN\n",
    "    elif tag.startswith('R'):\n",
    "        return wordnet.ADV\n",
    "    else:\n",
    "        return wordnet.NOUN"
   ]
  },
  {
   "cell_type": "code",
   "execution_count": 13,
   "metadata": {},
   "outputs": [],
   "source": [
    "def lemmatize (word_list):\n",
    "    wl = WordNetLemmatizer()\n",
    "    word_pos_tags = pos_tag(word_list)\n",
    "    lemmatized_list = []\n",
    "    for tag in word_pos_tags:\n",
    "        lemmatize_word = wl.lemmatize(tag[0],get_wordnet_pos(tag[1]))\n",
    "        lemmatized_list.append(lemmatize_word)\n",
    "    return \" \".join(lemmatized_list)"
   ]
  },
  {
   "cell_type": "code",
   "execution_count": 14,
   "metadata": {},
   "outputs": [],
   "source": [
    "def clean_text (text):\n",
    "    # Remove Pre and Post Spaces\n",
    "    text = str(text).strip()\n",
    "    \n",
    "    # Lower case the entire text\n",
    "    text = str(text).lower()\n",
    "\n",
    "    # Substitute New Line Characters with spaces \n",
    "    text = re.sub(r\"\\n\", r\" \", text)\n",
    "        \n",
    "    # Tokenize the sentence\n",
    "    word_tokens = word_tokenize(text)\n",
    "    \n",
    "    # Remove the punctuation and  special characters from each individual word\n",
    "    cleaned_text = []\n",
    "    for word in word_tokens:\n",
    "        cleaned_text.append(\"\".join([char for char in word if char.isalnum()]))\n",
    "    \n",
    "    # Specify the stop words list\n",
    "    stop_words = stopwords.words('english')\n",
    "    \n",
    "    # Remove the stopwords and words containing less then 2 characters\n",
    "    text_tokens = [word for word in cleaned_text if (len(word) > 2) and (word not in stop_words)]\n",
    "    \n",
    "    #Lemmatize each word in the word list\n",
    "    text = lemmatize (text_tokens)\n",
    "    \n",
    "    return text"
   ]
  },
  {
   "cell_type": "code",
   "execution_count": 15,
   "metadata": {},
   "outputs": [
    {
     "data": {
      "text/plain": [
       "\"From: lerxst@wam.umd.edu (where's my thing)\\nSubject: WHAT car is this!?\\nNntp-Posting-Host: rac3.wam.umd.edu\\nOrganization: University of Maryland, College Park\\nLines: 15\\n\\n I was wondering if anyone out there could enlighten me on this car I saw\\nthe other day. It was a 2-door sports car, looked to be from the late 60s/\\nearly 70s. It was called a Bricklin. The doors were really small. In addition,\\nthe front bumper was separate from the rest of the body. This is \\nall I know. If anyone can tellme a model name, engine specs, years\\nof production, where this car is made, history, or whatever info you\\nhave on this funky looking car, please e-mail.\\n\\nThanks,\\n- IL\\n   ---- brought to you by your neighborhood Lerxst ----\\n\\n\\n\\n\\n\""
      ]
     },
     "execution_count": 15,
     "metadata": {},
     "output_type": "execute_result"
    }
   ],
   "source": [
    "df_train['article'][0]"
   ]
  },
  {
   "cell_type": "code",
   "execution_count": 16,
   "metadata": {},
   "outputs": [
    {
     "data": {
      "text/plain": [
       "'lerxst wamumdedu thing subject car nntppostinghost rac3wamumdedu organization university maryland college park line wonder anyone could enlighten car saw day 2door sport car look late 60 early 70 call bricklin door really small addition front bumper separate rest body know anyone tellme model name engine spec year production car make history whatever info funky look car please email thanks bring neighborhood lerxst'"
      ]
     },
     "execution_count": 16,
     "metadata": {},
     "output_type": "execute_result"
    }
   ],
   "source": [
    "clean_text (df_train['article'][0])"
   ]
  },
  {
   "cell_type": "code",
   "execution_count": 17,
   "metadata": {},
   "outputs": [],
   "source": [
    "df_train['article'] = df_train['article'].apply(lambda x: clean_text(x))"
   ]
  },
  {
   "cell_type": "code",
   "execution_count": 18,
   "metadata": {},
   "outputs": [],
   "source": [
    "df_test['article'] = df_test['article'].apply(lambda x: clean_text(x))"
   ]
  },
  {
   "cell_type": "code",
   "execution_count": 19,
   "metadata": {},
   "outputs": [
    {
     "data": {
      "image/png": "[encoded data removed]",
      "text/plain": [
       "<Figure size 720x576 with 1 Axes>"
      ]
     },
     "metadata": {
      "needs_background": "light"
     },
     "output_type": "display_data"
    }
   ],
   "source": [
    "df_train['word_count'] = df_train['article'].apply(lambda x: len(str(x).split()))\n",
    "plt.figure(figsize=(10,8))\n",
    "sns.histplot(data=df_train, x='word_count')\n",
    "plt.title('Word Count of Articles in Train Data after data cleaning')\n",
    "plt.xlabel('Word Count')\n",
    "plt.ylabel('Article Count')\n",
    "plt.show()"
   ]
  },
  {
   "cell_type": "code",
   "execution_count": 20,
   "metadata": {},
   "outputs": [
    {
     "name": "stdout",
     "output_type": "stream",
     "text": [
      "Percentage of Training Articles having less than 300 Words:92.05%\n"
     ]
    }
   ],
   "source": [
    "train_articles = (sum(df_train['word_count'] < 300)/df_train.shape[0])*100\n",
    "print('Percentage of Training Articles having less than 300 Words:{:.2f}%'.format(train_articles))"
   ]
  },
  {
   "cell_type": "code",
   "execution_count": 21,
   "metadata": {},
   "outputs": [
    {
     "data": {
      "image/png": "[encoded data removed]",
      "text/plain": [
       "<Figure size 720x576 with 1 Axes>"
      ]
     },
     "metadata": {
      "needs_background": "light"
     },
     "output_type": "display_data"
    }
   ],
   "source": [
    "df_test['word_count'] = df_test['article'].apply(lambda x: len(str(x).split()))\n",
    "plt.figure(figsize=(10,8))\n",
    "sns.histplot(data=df_test, x='word_count')\n",
    "plt.title('Word Count of Articles in Test Data after data cleaning')\n",
    "plt.xlabel('Word Count')\n",
    "plt.ylabel('Article Count')\n",
    "plt.show()"
   ]
  },
  {
   "cell_type": "code",
   "execution_count": 22,
   "metadata": {},
   "outputs": [
    {
     "name": "stdout",
     "output_type": "stream",
     "text": [
      "Percentage of Test Articles having less than 300 Words:92.37%\n"
     ]
    }
   ],
   "source": [
    "test_articles = (sum(df_test['word_count'] < 300)/df_test.shape[0])*100\n",
    "print('Percentage of Test Articles having less than 300 Words:{:.2f}%'.format(test_articles))"
   ]
  },
  {
   "cell_type": "code",
   "execution_count": 23,
   "metadata": {},
   "outputs": [],
   "source": [
    "X_train = df_train['article']\n",
    "y_train = df_train['label']\n",
    "X_test = df_test['article']\n",
    "y_test = df_test['label']"
   ]
  },
  {
   "cell_type": "code",
   "execution_count": 24,
   "metadata": {},
   "outputs": [
    {
     "name": "stdout",
     "output_type": "stream",
     "text": [
      "X_train: (11314,)\n",
      "X_test: (7532,)\n",
      "y_train: (11314,)\n",
      "y_test: (7532,)\n"
     ]
    }
   ],
   "source": [
    "print(\"X_train:\", X_train.shape)\n",
    "print(\"X_test:\", X_test.shape)\n",
    "print(\"y_train:\", y_train.shape)\n",
    "print(\"y_test:\", y_test.shape)"
   ]
  },
  {
   "cell_type": "code",
   "execution_count": 25,
   "metadata": {},
   "outputs": [],
   "source": [
    "tokenizer = Tokenizer(num_words=100000)\n",
    "tokenizer.fit_on_texts(X_train)"
   ]
  },
  {
   "cell_type": "code",
   "execution_count": 26,
   "metadata": {},
   "outputs": [
    {
     "name": "stdout",
     "output_type": "stream",
     "text": [
      "Vocab Size: 148442\n"
     ]
    }
   ],
   "source": [
    "vocab_size = len(tokenizer.index_word) + 1\n",
    "print('Vocab Size:', vocab_size)"
   ]
  },
  {
   "cell_type": "code",
   "execution_count": 27,
   "metadata": {},
   "outputs": [],
   "source": [
    "X_train_token = tokenizer.texts_to_sequences(X_train)\n",
    "X_test_token = tokenizer.texts_to_sequences(X_test)"
   ]
  },
  {
   "cell_type": "code",
   "execution_count": 28,
   "metadata": {},
   "outputs": [],
   "source": [
    "sequence_len = 1000\n",
    "X_train_token = pad_sequences(X_train_token, padding='post', maxlen=sequence_len)\n",
    "X_test_token = pad_sequences(X_test_token, padding='post', maxlen=sequence_len)"
   ]
  },
  {
   "cell_type": "markdown",
   "metadata": {},
   "source": [
    "### Training Deep Neural Networks using pre-trained Glove Embeddings"
   ]
  },
  {
   "cell_type": "code",
   "execution_count": 29,
   "metadata": {},
   "outputs": [],
   "source": [
    "home = os.path.expanduser('~')\n",
    "glove_embedding_filepath = os.path.join(home, \".torch/datasets/glove_embeddings/glove.6B.100d.txt\")"
   ]
  },
  {
   "cell_type": "code",
   "execution_count": 30,
   "metadata": {},
   "outputs": [],
   "source": [
    "def create_embedding_matrix (filepath, word_index, embedding_dim):\n",
    "    vocab_size = len(word_index) + 1\n",
    "    embedding_matrix = np.zeros((vocab_size, embedding_dim))\n",
    "    \n",
    "    with open(filepath) as file:\n",
    "        for line in file:\n",
    "            word, *vector = line.split()\n",
    "            if word in word_index:\n",
    "                idx = word_index[word]\n",
    "                embedding_matrix[idx] = np.array(vector, dtype=np.float32)[:embedding_dim]\n",
    "    \n",
    "    return embedding_matrix"
   ]
  },
  {
   "cell_type": "code",
   "execution_count": 31,
   "metadata": {},
   "outputs": [],
   "source": [
    "embedding_dim = 100\n",
    "embedding_matrix = create_embedding_matrix(glove_embedding_filepath, tokenizer.word_index, embedding_dim)"
   ]
  },
  {
   "cell_type": "code",
   "execution_count": 32,
   "metadata": {},
   "outputs": [
    {
     "name": "stdout",
     "output_type": "stream",
     "text": [
      "Model: \"sequential\"\n",
      "_________________________________________________________________\n",
      "Layer (type)                 Output Shape              Param #   \n",
      "=================================================================\n",
      "embedding (Embedding)        (None, 1000, 100)         14844200  \n",
      "_________________________________________________________________\n",
      "conv1d (Conv1D)              (None, 996, 128)          64128     \n",
      "_________________________________________________________________\n",
      "global_max_pooling1d (Global (None, 128)               0         \n",
      "_________________________________________________________________\n",
      "dense (Dense)                (None, 64)                8256      \n",
      "_________________________________________________________________\n",
      "dense_1 (Dense)              (None, 32)                2080      \n",
      "_________________________________________________________________\n",
      "dense_2 (Dense)              (None, 20)                660       \n",
      "=================================================================\n",
      "Total params: 14,919,324\n",
      "Trainable params: 14,919,324\n",
      "Non-trainable params: 0\n",
      "_________________________________________________________________\n"
     ]
    },
    {
     "name": "stderr",
     "output_type": "stream",
     "text": [
      "2022-06-14 18:47:46.490552: I tensorflow/compiler/jit/xla_cpu_device.cc:41] Not creating XLA devices, tf_xla_enable_xla_devices not set\n",
      "2022-06-14 18:47:46.491485: I tensorflow/core/platform/cpu_feature_guard.cc:142] This TensorFlow binary is optimized with oneAPI Deep Neural Network Library (oneDNN) to use the following CPU instructions in performance-critical operations:  SSE4.1 SSE4.2 AVX AVX2 FMA\n",
      "To enable them in other operations, rebuild TensorFlow with the appropriate compiler flags.\n",
      "2022-06-14 18:47:46.492909: I tensorflow/core/common_runtime/process_util.cc:146] Creating new thread pool with default inter op setting: 2. Tune using inter_op_parallelism_threads for best performance.\n"
     ]
    }
   ],
   "source": [
    "model = Sequential()\n",
    "model.add(layers.Embedding(input_dim=vocab_size, output_dim=embedding_dim, input_length=sequence_len))\n",
    "model.add(layers.Conv1D(filters=128, kernel_size=5, activation='relu'))\n",
    "model.add(layers.GlobalMaxPool1D())\n",
    "model.add(layers.Dense(64, activation='relu'))\n",
    "model.add(layers.Dense(32, activation='relu'))\n",
    "model.add(layers.Dense(20, activation='softmax'))\n",
    "model.compile(optimizer='adam', loss='sparse_categorical_crossentropy', metrics=['accuracy'])\n",
    "model.summary()"
   ]
  },
  {
   "cell_type": "code",
   "execution_count": 33,
   "metadata": {},
   "outputs": [
    {
     "name": "stderr",
     "output_type": "stream",
     "text": [
      "2022-06-14 18:47:46.818230: I tensorflow/compiler/mlir/mlir_graph_optimization_pass.cc:116] None of the MLIR optimization passes are enabled (registered 2)\n",
      "2022-06-14 18:47:46.842831: I tensorflow/core/platform/profile_utils/cpu_utils.cc:112] CPU Frequency: 2099940000 Hz\n"
     ]
    },
    {
     "name": "stdout",
     "output_type": "stream",
     "text": [
      "Epoch 1/20\n",
      "89/89 [==============================] - 121s 1s/step - loss: 2.9639 - accuracy: 0.0889 - val_loss: 2.4170 - val_accuracy: 0.3638\n",
      "Epoch 2/20\n",
      "89/89 [==============================] - 157s 2s/step - loss: 1.5740 - accuracy: 0.6211 - val_loss: 0.9479 - val_accuracy: 0.7479\n",
      "Epoch 3/20\n",
      "89/89 [==============================] - 155s 2s/step - loss: 0.2091 - accuracy: 0.9679 - val_loss: 0.8500 - val_accuracy: 0.7748\n",
      "Epoch 4/20\n",
      "89/89 [==============================] - 155s 2s/step - loss: 0.0340 - accuracy: 0.9975 - val_loss: 0.8504 - val_accuracy: 0.7854\n",
      "Epoch 5/20\n",
      "89/89 [==============================] - 113s 1s/step - loss: 0.0121 - accuracy: 0.9988 - val_loss: 0.8860 - val_accuracy: 0.7844\n",
      "Epoch 6/20\n",
      "89/89 [==============================] - 112s 1s/step - loss: 0.0087 - accuracy: 0.9987 - val_loss: 0.9079 - val_accuracy: 0.7823\n",
      "Epoch 7/20\n",
      "89/89 [==============================] - 131s 1s/step - loss: 0.0045 - accuracy: 0.9997 - val_loss: 0.9361 - val_accuracy: 0.7791\n",
      "Epoch 8/20\n",
      "89/89 [==============================] - 112s 1s/step - loss: 0.0046 - accuracy: 0.9996 - val_loss: 0.9278 - val_accuracy: 0.7865\n",
      "Epoch 9/20\n",
      "89/89 [==============================] - 111s 1s/step - loss: 0.0037 - accuracy: 0.9995 - val_loss: 1.0518 - val_accuracy: 0.7662\n",
      "Epoch 10/20\n",
      "89/89 [==============================] - 131s 1s/step - loss: 0.0041 - accuracy: 0.9995 - val_loss: 0.9584 - val_accuracy: 0.7853\n",
      "Epoch 11/20\n",
      "89/89 [==============================] - 136s 2s/step - loss: 0.0018 - accuracy: 0.9998 - val_loss: 0.9769 - val_accuracy: 0.7820\n",
      "Epoch 12/20\n",
      "89/89 [==============================] - 134s 2s/step - loss: 0.0015 - accuracy: 0.9998 - val_loss: 1.0668 - val_accuracy: 0.7682\n",
      "Epoch 13/20\n",
      "89/89 [==============================] - 132s 1s/step - loss: 0.0024 - accuracy: 0.9997 - val_loss: 1.0020 - val_accuracy: 0.7823\n",
      "Epoch 14/20\n",
      "89/89 [==============================] - 120s 1s/step - loss: 0.0021 - accuracy: 0.9994 - val_loss: 1.0528 - val_accuracy: 0.7759\n",
      "Epoch 15/20\n",
      "89/89 [==============================] - 111s 1s/step - loss: 0.0032 - accuracy: 0.9996 - val_loss: 1.0108 - val_accuracy: 0.7854\n",
      "Epoch 16/20\n",
      "89/89 [==============================] - 111s 1s/step - loss: 0.0011 - accuracy: 0.9998 - val_loss: 1.0253 - val_accuracy: 0.7832\n",
      "Epoch 17/20\n",
      "89/89 [==============================] - 111s 1s/step - loss: 0.0021 - accuracy: 0.9998 - val_loss: 1.0355 - val_accuracy: 0.7825\n",
      "Epoch 18/20\n",
      "89/89 [==============================] - 111s 1s/step - loss: 7.6212e-04 - accuracy: 0.9999 - val_loss: 1.0234 - val_accuracy: 0.7858\n",
      "Epoch 19/20\n",
      "89/89 [==============================] - 111s 1s/step - loss: 0.0012 - accuracy: 0.9999 - val_loss: 1.0398 - val_accuracy: 0.7860\n",
      "Epoch 20/20\n",
      "89/89 [==============================] - 111s 1s/step - loss: 0.0012 - accuracy: 0.9999 - val_loss: 1.0347 - val_accuracy: 0.7862\n"
     ]
    }
   ],
   "source": [
    "history = model.fit(X_train_token, y_train, epochs=20, validation_data=(X_test_token, y_test), batch_size=128)"
   ]
  },
  {
   "cell_type": "code",
   "execution_count": 37,
   "metadata": {},
   "outputs": [
    {
     "name": "stdout",
     "output_type": "stream",
     "text": [
      "        loss  accuracy  val_loss  val_accuracy\n",
      "0   2.867707  0.152024  2.416967      0.363781\n",
      "1   1.131151  0.735107  0.947928      0.747876\n",
      "2   0.176339  0.970125  0.850021      0.774827\n",
      "3   0.030206  0.997437  0.850446      0.785449\n",
      "4   0.011386  0.998939  0.886012      0.784387\n",
      "5   0.007254  0.999205  0.907940      0.782262\n",
      "6   0.006042  0.999205  0.936063      0.779076\n",
      "7   0.005599  0.999293  0.927756      0.786511\n",
      "8   0.004453  0.999293  1.051842      0.766198\n",
      "9   0.004535  0.999381  0.958412      0.785316\n",
      "10  0.003544  0.999558  0.976946      0.781997\n",
      "11  0.002565  0.999646  1.066830      0.768189\n",
      "12  0.002352  0.999646  1.002007      0.782262\n",
      "13  0.002149  0.999646  1.052784      0.775890\n",
      "14  0.004063  0.999558  1.010789      0.785449\n",
      "15  0.001973  0.999735  1.025287      0.783192\n",
      "16  0.002055  0.999823  1.035513      0.782528\n",
      "17  0.001493  0.999735  1.023353      0.785847\n",
      "18  0.002174  0.999646  1.039755      0.785980\n",
      "19  0.001551  0.999823  1.034661      0.786245\n"
     ]
    }
   ],
   "source": [
    "metrics_df = pd.DataFrame(history.history)\n",
    "print(metrics_df)"
   ]
  },
  {
   "cell_type": "code",
   "execution_count": 41,
   "metadata": {},
   "outputs": [
    {
     "data": {
      "image/png": "[encoded data removed]",
      "text/plain": [
       "<Figure size 720x360 with 1 Axes>"
      ]
     },
     "metadata": {
      "needs_background": "light"
     },
     "output_type": "display_data"
    }
   ],
   "source": [
    "plt.figure(figsize=(10,5))\n",
    "plt.plot(metrics_df.index, metrics_df.loss)\n",
    "plt.plot(metrics_df.index, metrics_df.val_loss)\n",
    "plt.title('Newsgroup 20 Dataset Neural Network Training with Corpus Word Embeddings')\n",
    "plt.xlabel('Epochs')\n",
    "plt.ylabel('Categorical Crossentropy Loss')\n",
    "plt.legend(['Training Loss', 'Validation Loss'])\n",
    "plt.show()"
   ]
  },
  {
   "cell_type": "code",
   "execution_count": 42,
   "metadata": {},
   "outputs": [
    {
     "data": {
      "image/png": "[encoded data removed]",
      "text/plain": [
       "<Figure size 720x360 with 1 Axes>"
      ]
     },
     "metadata": {
      "needs_background": "light"
     },
     "output_type": "display_data"
    }
   ],
   "source": [
    "plt.figure(figsize=(10,5))\n",
    "plt.plot(metrics_df.index, metrics_df.accuracy)\n",
    "plt.plot(metrics_df.index, metrics_df.val_accuracy)\n",
    "plt.title('Newsgroup 20 Dataset Neural Network Training with Corpus Word Embeddings')\n",
    "plt.xlabel('Epochs')\n",
    "plt.ylabel('Acuracy')\n",
    "plt.legend(['Training Accuracy', 'Validation Accuracy'])\n",
    "plt.show()"
   ]
  },
  {
   "cell_type": "code",
   "execution_count": 34,
   "metadata": {},
   "outputs": [
    {
     "name": "stdout",
     "output_type": "stream",
     "text": [
      "Model: \"sequential_1\"\n",
      "_________________________________________________________________\n",
      "Layer (type)                 Output Shape              Param #   \n",
      "=================================================================\n",
      "embedding_1 (Embedding)      (None, 1000, 100)         14844200  \n",
      "_________________________________________________________________\n",
      "conv1d_1 (Conv1D)            (None, 996, 128)          64128     \n",
      "_________________________________________________________________\n",
      "global_max_pooling1d_1 (Glob (None, 128)               0         \n",
      "_________________________________________________________________\n",
      "dense_3 (Dense)              (None, 64)                8256      \n",
      "_________________________________________________________________\n",
      "dense_4 (Dense)              (None, 32)                2080      \n",
      "_________________________________________________________________\n",
      "dense_5 (Dense)              (None, 20)                660       \n",
      "=================================================================\n",
      "Total params: 14,919,324\n",
      "Trainable params: 14,919,324\n",
      "Non-trainable params: 0\n",
      "_________________________________________________________________\n"
     ]
    }
   ],
   "source": [
    "model = Sequential()\n",
    "model.add(layers.Embedding(input_dim=vocab_size, output_dim=embedding_dim, input_length=sequence_len, weights = [embedding_matrix], trainable = True))\n",
    "model.add(layers.Conv1D(filters=128, kernel_size=5, activation='relu'))\n",
    "model.add(layers.GlobalMaxPool1D())\n",
    "model.add(layers.Dense(64, activation='relu'))\n",
    "model.add(layers.Dense(32, activation='relu'))\n",
    "model.add(layers.Dense(20, activation='softmax'))\n",
    "model.compile(optimizer='adam', loss='sparse_categorical_crossentropy', metrics=['accuracy'])\n",
    "model.summary()"
   ]
  },
  {
   "cell_type": "code",
   "execution_count": 35,
   "metadata": {},
   "outputs": [
    {
     "name": "stdout",
     "output_type": "stream",
     "text": [
      "Epoch 1/20\n",
      "89/89 [==============================] - 107s 1s/step - loss: 2.7900 - accuracy: 0.1694 - val_loss: 1.8443 - val_accuracy: 0.4610\n",
      "Epoch 2/20\n",
      "89/89 [==============================] - 104s 1s/step - loss: 1.3861 - accuracy: 0.6176 - val_loss: 1.1903 - val_accuracy: 0.6255\n",
      "Epoch 3/20\n",
      "89/89 [==============================] - 104s 1s/step - loss: 0.6819 - accuracy: 0.8225 - val_loss: 0.9858 - val_accuracy: 0.6921\n",
      "Epoch 4/20\n",
      "89/89 [==============================] - 106s 1s/step - loss: 0.3248 - accuracy: 0.9283 - val_loss: 0.9196 - val_accuracy: 0.7211\n",
      "Epoch 5/20\n",
      "89/89 [==============================] - 105s 1s/step - loss: 0.1487 - accuracy: 0.9772 - val_loss: 0.9108 - val_accuracy: 0.7354\n",
      "Epoch 6/20\n",
      "89/89 [==============================] - 105s 1s/step - loss: 0.0624 - accuracy: 0.9962 - val_loss: 0.9093 - val_accuracy: 0.7424\n",
      "Epoch 7/20\n",
      "89/89 [==============================] - 107s 1s/step - loss: 0.0291 - accuracy: 0.9987 - val_loss: 0.9389 - val_accuracy: 0.7454\n",
      "Epoch 8/20\n",
      "89/89 [==============================] - 108s 1s/step - loss: 0.0178 - accuracy: 0.9992 - val_loss: 0.9448 - val_accuracy: 0.7477\n",
      "Epoch 9/20\n",
      "89/89 [==============================] - 108s 1s/step - loss: 0.0121 - accuracy: 0.9993 - val_loss: 0.9982 - val_accuracy: 0.7451\n",
      "Epoch 10/20\n",
      "89/89 [==============================] - 109s 1s/step - loss: 0.0099 - accuracy: 0.9991 - val_loss: 1.0059 - val_accuracy: 0.7461\n",
      "Epoch 11/20\n",
      "89/89 [==============================] - 108s 1s/step - loss: 0.0086 - accuracy: 0.9993 - val_loss: 1.0003 - val_accuracy: 0.7533\n",
      "Epoch 12/20\n",
      "89/89 [==============================] - 109s 1s/step - loss: 0.0062 - accuracy: 0.9996 - val_loss: 1.0165 - val_accuracy: 0.7528\n",
      "Epoch 13/20\n",
      "89/89 [==============================] - 109s 1s/step - loss: 0.0058 - accuracy: 0.9997 - val_loss: 1.0210 - val_accuracy: 0.7532\n",
      "Epoch 14/20\n",
      "89/89 [==============================] - 109s 1s/step - loss: 0.0050 - accuracy: 0.9997 - val_loss: 1.0458 - val_accuracy: 0.7509\n",
      "Epoch 15/20\n",
      "89/89 [==============================] - 108s 1s/step - loss: 0.0076 - accuracy: 0.9993 - val_loss: 1.0378 - val_accuracy: 0.7541\n",
      "Epoch 16/20\n",
      "89/89 [==============================] - 109s 1s/step - loss: 0.0078 - accuracy: 0.9993 - val_loss: 1.0517 - val_accuracy: 0.7535\n",
      "Epoch 17/20\n",
      "89/89 [==============================] - 108s 1s/step - loss: 0.0037 - accuracy: 0.9997 - val_loss: 1.1064 - val_accuracy: 0.7432\n",
      "Epoch 18/20\n",
      "89/89 [==============================] - 109s 1s/step - loss: 0.0038 - accuracy: 0.9996 - val_loss: 1.1143 - val_accuracy: 0.7463\n",
      "Epoch 19/20\n",
      "89/89 [==============================] - 111s 1s/step - loss: 0.0022 - accuracy: 0.9999 - val_loss: 1.1302 - val_accuracy: 0.7454\n",
      "Epoch 20/20\n",
      "89/89 [==============================] - 111s 1s/step - loss: 0.0068 - accuracy: 0.9997 - val_loss: 1.1145 - val_accuracy: 0.7483\n"
     ]
    }
   ],
   "source": [
    "history1 = model.fit(X_train_token, y_train, epochs=20, validation_data=(X_test_token, y_test), batch_size=128)"
   ]
  },
  {
   "cell_type": "code",
   "execution_count": 44,
   "metadata": {},
   "outputs": [
    {
     "name": "stdout",
     "output_type": "stream",
     "text": [
      "        loss  accuracy  val_loss  val_accuracy\n",
      "0   2.476003  0.278505  1.844265      0.460967\n",
      "1   1.210262  0.658918  1.190305      0.625465\n",
      "2   0.612371  0.837281  0.985790      0.692114\n",
      "3   0.306368  0.928849  0.919572      0.721057\n",
      "4   0.136351  0.979229  0.910780      0.735396\n",
      "5   0.058108  0.996111  0.909259      0.742432\n",
      "6   0.028540  0.998497  0.938917      0.745353\n",
      "7   0.016939  0.999293  0.944808      0.747743\n",
      "8   0.012210  0.999116  0.998206      0.745088\n",
      "9   0.010390  0.999116  1.005913      0.746150\n",
      "10  0.009226  0.999205  1.000346      0.753319\n",
      "11  0.006816  0.999558  1.016485      0.752788\n",
      "12  0.006547  0.999470  1.020973      0.753186\n",
      "13  0.005783  0.999558  1.045788      0.750929\n",
      "14  0.005241  0.999646  1.037765      0.754116\n",
      "15  0.005826  0.999558  1.051706      0.753452\n",
      "16  0.005550  0.999558  1.106374      0.743229\n",
      "17  0.004836  0.999558  1.114285      0.746283\n",
      "18  0.003960  0.999646  1.130212      0.745353\n",
      "19  0.006616  0.999558  1.114549      0.748274\n"
     ]
    }
   ],
   "source": [
    "metrics_df = pd.DataFrame(history1.history)\n",
    "print(metrics_df)"
   ]
  },
  {
   "cell_type": "code",
   "execution_count": 45,
   "metadata": {},
   "outputs": [
    {
     "data": {
      "image/png": "[encoded data removed]",
      "text/plain": [
       "<Figure size 720x360 with 1 Axes>"
      ]
     },
     "metadata": {
      "needs_background": "light"
     },
     "output_type": "display_data"
    }
   ],
   "source": [
    "plt.figure(figsize=(10,5))\n",
    "plt.plot(metrics_df.index, metrics_df.loss)\n",
    "plt.plot(metrics_df.index, metrics_df.val_loss)\n",
    "plt.title('Newsgroup 20 Dataset Neural Network Training with GLOVE Word Embeddings')\n",
    "plt.xlabel('Epochs')\n",
    "plt.ylabel('Categorical Crossentropy Loss')\n",
    "plt.legend(['Training Loss', 'Validation Loss'])\n",
    "plt.show()"
   ]
  },
  {
   "cell_type": "code",
   "execution_count": 46,
   "metadata": {},
   "outputs": [
    {
     "data": {
      "image/png": "[encoded data removed]",
      "text/plain": [
       "<Figure size 720x360 with 1 Axes>"
      ]
     },
     "metadata": {
      "needs_background": "light"
     },
     "output_type": "display_data"
    }
   ],
   "source": [
    "plt.figure(figsize=(10,5))\n",
    "plt.plot(metrics_df.index, metrics_df.accuracy)\n",
    "plt.plot(metrics_df.index, metrics_df.val_accuracy)\n",
    "plt.title('Newsgroup 20 Dataset Neural Network Training with GLOVE Word Embeddings')\n",
    "plt.xlabel('Epochs')\n",
    "plt.ylabel('Acuracy')\n",
    "plt.legend(['Training Accuracy', 'Validation Accuracy'])\n",
    "plt.show()"
   ]
  },
  {
   "cell_type": "code",
   "execution_count": null,
   "metadata": {},
   "outputs": [],
   "source": []
  }
 ],
 "metadata": {
  "interpreter": {
   "hash": "9ba8fe1ea37d8fab6aa2152f3b1f7bdb1ce3c036a65ce11248e194528f488cec"
  },
  "kernelspec": {
   "display_name": "Python 3.9.12 ('aws_labs')",
   "language": "python",
   "name": "python3"
  },
  "language_info": {
   "codemirror_mode": {
    "name": "ipython",
    "version": 3
   },
   "file_extension": ".py",
   "mimetype": "text/x-python",
   "name": "python",
   "nbconvert_exporter": "python",
   "pygments_lexer": "ipython3",
   "version": "3.9.12"
  },
  "orig_nbformat": 4
 },
 "nbformat": 4,
 "nbformat_minor": 2
}
