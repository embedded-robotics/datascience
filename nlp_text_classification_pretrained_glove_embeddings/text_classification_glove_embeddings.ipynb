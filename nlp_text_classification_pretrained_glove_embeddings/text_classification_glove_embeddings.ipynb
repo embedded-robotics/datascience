{
 "cells": [
  {
   "cell_type": "markdown",
   "metadata": {},
   "source": [
    "Article: https://www.embedded-robotics.com/cnn-for-multi-label-text-classification/\\\n",
    "Code: Text Classification for20 Newsgroups dataset using CNN and GloVe Embeddings\\\n",
    "Prepared By: Awais Naeem (awais.naeem@embedded-robotics.com)\\\n",
    "Copyrights: www.embedded-robotics.com\\\n",
    "Disclaimer: This code can be distributed with the proper mention of the owner copyrights"
   ]
  },
  {
   "cell_type": "code",
   "execution_count": 1,
   "metadata": {},
   "outputs": [],
   "source": [
    "import os\n",
    "import re\n",
    "import nltk\n",
    "import pandas as pd\n",
    "import numpy as np\n",
    "import seaborn as sns\n",
    "import matplotlib.pyplot as plt\n",
    "from nltk.tokenize import word_tokenize\n",
    "from nltk import pos_tag\n",
    "from nltk.corpus import stopwords, wordnet\n",
    "from nltk.stem import WordNetLemmatizer\n",
    "from sklearn.datasets import fetch_20newsgroups\n",
    "from tensorflow.keras import layers\n",
    "from tensorflow.keras.models import Sequential\n",
    "from tensorflow.keras.preprocessing.text import Tokenizer\n",
    "from tensorflow.keras.preprocessing.sequence import pad_sequences"
   ]
  },
  {
   "cell_type": "code",
   "execution_count": 2,
   "metadata": {},
   "outputs": [
    {
     "name": "stderr",
     "output_type": "stream",
     "text": [
      "[nltk_data] Downloading package punkt to\n",
      "[nltk_data]     /home/awais.naeem@ebryx.com/nltk_data...\n",
      "[nltk_data]   Package punkt is already up-to-date!\n",
      "[nltk_data] Downloading package averaged_perceptron_tagger to\n",
      "[nltk_data]     /home/awais.naeem@ebryx.com/nltk_data...\n",
      "[nltk_data]   Package averaged_perceptron_tagger is already up-to-\n",
      "[nltk_data]       date!\n",
      "[nltk_data] Downloading package wordnet to\n",
      "[nltk_data]     /home/awais.naeem@ebryx.com/nltk_data...\n",
      "[nltk_data]   Package wordnet is already up-to-date!\n",
      "[nltk_data] Downloading package stopwords to\n",
      "[nltk_data]     /home/awais.naeem@ebryx.com/nltk_data...\n",
      "[nltk_data]   Package stopwords is already up-to-date!\n",
      "[nltk_data] Downloading package omw-1.4 to\n",
      "[nltk_data]     /home/awais.naeem@ebryx.com/nltk_data...\n",
      "[nltk_data]   Package omw-1.4 is already up-to-date!\n"
     ]
    },
    {
     "data": {
      "text/plain": [
       "True"
      ]
     },
     "execution_count": 2,
     "metadata": {},
     "output_type": "execute_result"
    }
   ],
   "source": [
    "nltk.download(\"punkt\")\n",
    "nltk.download(\"averaged_perceptron_tagger\")\n",
    "nltk.download(\"wordnet\")\n",
    "nltk.download(\"stopwords\")\n",
    "nltk.download('omw-1.4')"
   ]
  },
  {
   "cell_type": "code",
   "execution_count": 3,
   "metadata": {},
   "outputs": [],
   "source": [
    "newsgroup_train = fetch_20newsgroups(subset='train', shuffle=True)\n",
    "newsgroup_test = fetch_20newsgroups(subset='test', shuffle=True)"
   ]
  },
  {
   "cell_type": "code",
   "execution_count": 4,
   "metadata": {},
   "outputs": [
    {
     "name": "stdout",
     "output_type": "stream",
     "text": [
      "['alt.atheism', 'comp.graphics', 'comp.os.ms-windows.misc', 'comp.sys.ibm.pc.hardware', 'comp.sys.mac.hardware', 'comp.windows.x', 'misc.forsale', 'rec.autos', 'rec.motorcycles', 'rec.sport.baseball', 'rec.sport.hockey', 'sci.crypt', 'sci.electronics', 'sci.med', 'sci.space', 'soc.religion.christian', 'talk.politics.guns', 'talk.politics.mideast', 'talk.politics.misc', 'talk.religion.misc']\n"
     ]
    }
   ],
   "source": [
    "print(newsgroup_train.target_names)"
   ]
  },
  {
   "cell_type": "code",
   "execution_count": 5,
   "metadata": {},
   "outputs": [
    {
     "data": {
      "text/html": [
       "<div>\n",
       "<style scoped>\n",
       "    .dataframe tbody tr th:only-of-type {\n",
       "        vertical-align: middle;\n",
       "    }\n",
       "\n",
       "    .dataframe tbody tr th {\n",
       "        vertical-align: top;\n",
       "    }\n",
       "\n",
       "    .dataframe thead th {\n",
       "        text-align: right;\n",
       "    }\n",
       "</style>\n",
       "<table border=\"1\" class=\"dataframe\">\n",
       "  <thead>\n",
       "    <tr style=\"text-align: right;\">\n",
       "      <th></th>\n",
       "      <th>article</th>\n",
       "      <th>label</th>\n",
       "    </tr>\n",
       "  </thead>\n",
       "  <tbody>\n",
       "    <tr>\n",
       "      <th>0</th>\n",
       "      <td>From: lerxst@wam.umd.edu (where's my thing)\\nS...</td>\n",
       "      <td>7</td>\n",
       "    </tr>\n",
       "    <tr>\n",
       "      <th>1</th>\n",
       "      <td>From: guykuo@carson.u.washington.edu (Guy Kuo)...</td>\n",
       "      <td>4</td>\n",
       "    </tr>\n",
       "    <tr>\n",
       "      <th>2</th>\n",
       "      <td>From: twillis@ec.ecn.purdue.edu (Thomas E Will...</td>\n",
       "      <td>4</td>\n",
       "    </tr>\n",
       "    <tr>\n",
       "      <th>3</th>\n",
       "      <td>From: jgreen@amber (Joe Green)\\nSubject: Re: W...</td>\n",
       "      <td>1</td>\n",
       "    </tr>\n",
       "    <tr>\n",
       "      <th>4</th>\n",
       "      <td>From: jcm@head-cfa.harvard.edu (Jonathan McDow...</td>\n",
       "      <td>14</td>\n",
       "    </tr>\n",
       "  </tbody>\n",
       "</table>\n",
       "</div>"
      ],
      "text/plain": [
       "                                             article  label\n",
       "0  From: lerxst@wam.umd.edu (where's my thing)\\nS...      7\n",
       "1  From: guykuo@carson.u.washington.edu (Guy Kuo)...      4\n",
       "2  From: twillis@ec.ecn.purdue.edu (Thomas E Will...      4\n",
       "3  From: jgreen@amber (Joe Green)\\nSubject: Re: W...      1\n",
       "4  From: jcm@head-cfa.harvard.edu (Jonathan McDow...     14"
      ]
     },
     "execution_count": 5,
     "metadata": {},
     "output_type": "execute_result"
    }
   ],
   "source": [
    "df_train = pd.DataFrame({'article': newsgroup_train.data, 'label': newsgroup_train.target})\n",
    "df_train.head()"
   ]
  },
  {
   "cell_type": "code",
   "execution_count": 6,
   "metadata": {},
   "outputs": [
    {
     "data": {
      "text/html": [
       "<div>\n",
       "<style scoped>\n",
       "    .dataframe tbody tr th:only-of-type {\n",
       "        vertical-align: middle;\n",
       "    }\n",
       "\n",
       "    .dataframe tbody tr th {\n",
       "        vertical-align: top;\n",
       "    }\n",
       "\n",
       "    .dataframe thead th {\n",
       "        text-align: right;\n",
       "    }\n",
       "</style>\n",
       "<table border=\"1\" class=\"dataframe\">\n",
       "  <thead>\n",
       "    <tr style=\"text-align: right;\">\n",
       "      <th></th>\n",
       "      <th>article</th>\n",
       "      <th>label</th>\n",
       "    </tr>\n",
       "  </thead>\n",
       "  <tbody>\n",
       "    <tr>\n",
       "      <th>0</th>\n",
       "      <td>From: v064mb9k@ubvmsd.cc.buffalo.edu (NEIL B. ...</td>\n",
       "      <td>7</td>\n",
       "    </tr>\n",
       "    <tr>\n",
       "      <th>1</th>\n",
       "      <td>From: Rick Miller &lt;rick@ee.uwm.edu&gt;\\nSubject: ...</td>\n",
       "      <td>5</td>\n",
       "    </tr>\n",
       "    <tr>\n",
       "      <th>2</th>\n",
       "      <td>From: mathew &lt;mathew@mantis.co.uk&gt;\\nSubject: R...</td>\n",
       "      <td>0</td>\n",
       "    </tr>\n",
       "    <tr>\n",
       "      <th>3</th>\n",
       "      <td>From: bakken@cs.arizona.edu (Dave Bakken)\\nSub...</td>\n",
       "      <td>17</td>\n",
       "    </tr>\n",
       "    <tr>\n",
       "      <th>4</th>\n",
       "      <td>From: livesey@solntze.wpd.sgi.com (Jon Livesey...</td>\n",
       "      <td>19</td>\n",
       "    </tr>\n",
       "  </tbody>\n",
       "</table>\n",
       "</div>"
      ],
      "text/plain": [
       "                                             article  label\n",
       "0  From: v064mb9k@ubvmsd.cc.buffalo.edu (NEIL B. ...      7\n",
       "1  From: Rick Miller <rick@ee.uwm.edu>\\nSubject: ...      5\n",
       "2  From: mathew <mathew@mantis.co.uk>\\nSubject: R...      0\n",
       "3  From: bakken@cs.arizona.edu (Dave Bakken)\\nSub...     17\n",
       "4  From: livesey@solntze.wpd.sgi.com (Jon Livesey...     19"
      ]
     },
     "execution_count": 6,
     "metadata": {},
     "output_type": "execute_result"
    }
   ],
   "source": [
    "df_test = pd.DataFrame({'article': newsgroup_test.data, 'label': newsgroup_test.target})\n",
    "df_test.head()"
   ]
  },
  {
   "cell_type": "markdown",
   "metadata": {},
   "source": [
    "### Exploratory Data Analysis"
   ]
  },
  {
   "cell_type": "code",
   "execution_count": 7,
   "metadata": {},
   "outputs": [
    {
     "data": {
      "image/png": "[encoded data removed]",
      "text/plain": [
       "<Figure size 720x576 with 1 Axes>"
      ]
     },
     "metadata": {
      "needs_background": "light"
     },
     "output_type": "display_data"
    }
   ],
   "source": [
    "df_train['word_count'] = df_train['article'].apply(lambda x: len(str(x).split()))\n",
    "plt.figure(figsize=(10,8))\n",
    "sns.histplot(data=df_train, x='word_count')\n",
    "plt.title('Word Count of Articles in Train Data')\n",
    "plt.xlabel('Word Count')\n",
    "plt.ylabel('Article Count')\n",
    "plt.show()"
   ]
  },
  {
   "cell_type": "code",
   "execution_count": 8,
   "metadata": {},
   "outputs": [
    {
     "name": "stdout",
     "output_type": "stream",
     "text": [
      "Percentage of Training Articles having less than 1000 Words:96.80%\n"
     ]
    }
   ],
   "source": [
    "train_articles = (sum(df_train['word_count'] < 1000)/df_train.shape[0])*100\n",
    "print('Percentage of Training Articles having less than 1000 Words:{:.2f}%'.format(train_articles))"
   ]
  },
  {
   "cell_type": "code",
   "execution_count": 9,
   "metadata": {},
   "outputs": [
    {
     "data": {
      "image/png": "[encoded data removed]",
      "text/plain": [
       "<Figure size 720x576 with 1 Axes>"
      ]
     },
     "metadata": {
      "needs_background": "light"
     },
     "output_type": "display_data"
    }
   ],
   "source": [
    "df_test['word_count'] = df_test['article'].apply(lambda x: len(str(x).split()))\n",
    "plt.figure(figsize=(10,8))\n",
    "sns.histplot(data=df_test, x='word_count')\n",
    "plt.title('Word Count of Articles in Test Data')\n",
    "plt.xlabel('Word Count')\n",
    "plt.ylabel('Article Count')\n",
    "plt.show()"
   ]
  },
  {
   "cell_type": "code",
   "execution_count": 10,
   "metadata": {},
   "outputs": [
    {
     "name": "stdout",
     "output_type": "stream",
     "text": [
      "Percentage of Test Articles having less than 1000 Words:97.09%\n"
     ]
    }
   ],
   "source": [
    "test_articles = (sum(df_test['word_count'] < 1000)/df_test.shape[0])*100\n",
    "print('Percentage of Test Articles having less than 1000 Words:{:.2f}%'.format(test_articles))"
   ]
  },
  {
   "cell_type": "code",
   "execution_count": 11,
   "metadata": {},
   "outputs": [
    {
     "data": {
      "image/png": "[encoded data removed]",
      "text/plain": [
       "<Figure size 1080x720 with 1 Axes>"
      ]
     },
     "metadata": {
      "needs_background": "light"
     },
     "output_type": "display_data"
    }
   ],
   "source": [
    "plt.figure(figsize=(15,10))\n",
    "sns.countplot(data=df_train, x='label')\n",
    "plt.title('Train Data Topics Distribution')\n",
    "plt.xlabel('Article Topics')\n",
    "plt.ylabel('Topic Count')\n",
    "plt.show()"
   ]
  },
  {
   "cell_type": "markdown",
   "metadata": {},
   "source": [
    "### Data Cleaning and Pre-processing:\n",
    "1. Remove pre and post spaces\n",
    "2. Lower the case of tweet's text\n",
    "3. Substitute new line chracter with spaces\n",
    "4. Remove punctuation and special characters\n",
    "5. Remove Stopwords\n",
    "6. Word Lemmatization\n",
    "7. Preparing feature space vectors"
   ]
  },
  {
   "cell_type": "code",
   "execution_count": 12,
   "metadata": {},
   "outputs": [],
   "source": [
    "def get_wordnet_pos (tag):\n",
    "    if tag.startswith('J'):\n",
    "        return wordnet.ADJ\n",
    "    elif tag.startswith('V'):\n",
    "        return wordnet.VERB\n",
    "    elif tag.startswith('N'):\n",
    "        return wordnet.NOUN\n",
    "    elif tag.startswith('R'):\n",
    "        return wordnet.ADV\n",
    "    else:\n",
    "        return wordnet.NOUN"
   ]
  },
  {
   "cell_type": "code",
   "execution_count": 13,
   "metadata": {},
   "outputs": [],
   "source": [
    "def lemmatize (word_list):\n",
    "    wl = WordNetLemmatizer()\n",
    "    word_pos_tags = pos_tag(word_list)\n",
    "    lemmatized_list = []\n",
    "    for tag in word_pos_tags:\n",
    "        lemmatize_word = wl.lemmatize(tag[0],get_wordnet_pos(tag[1]))\n",
    "        lemmatized_list.append(lemmatize_word)\n",
    "    return \" \".join(lemmatized_list)"
   ]
  },
  {
   "cell_type": "code",
   "execution_count": 14,
   "metadata": {},
   "outputs": [],
   "source": [
    "def clean_text (text):\n",
    "    # Remove Pre and Post Spaces\n",
    "    text = str(text).strip()\n",
    "    \n",
    "    # Lower case the entire text\n",
    "    text = str(text).lower()\n",
    "\n",
    "    # Substitute New Line Characters with spaces \n",
    "    text = re.sub(r\"\\n\", r\" \", text)\n",
    "        \n",
    "    # Tokenize the sentence\n",
    "    word_tokens = word_tokenize(text)\n",
    "    \n",
    "    # Remove the punctuation and  special characters from each individual word\n",
    "    cleaned_text = []\n",
    "    for word in word_tokens:\n",
    "        cleaned_text.append(\"\".join([char for char in word if char.isalnum()]))\n",
    "    \n",
    "    # Specify the stop words list\n",
    "    stop_words = stopwords.words('english')\n",
    "    \n",
    "    # Remove the stopwords and words containing less then 2 characters\n",
    "    text_tokens = [word for word in cleaned_text if (len(word) > 2) and (word not in stop_words)]\n",
    "    \n",
    "    #Lemmatize each word in the word list\n",
    "    text = lemmatize (text_tokens)\n",
    "    \n",
    "    return text"
   ]
  },
  {
   "cell_type": "code",
   "execution_count": 15,
   "metadata": {},
   "outputs": [
    {
     "data": {
      "text/plain": [
       "\"From: lerxst@wam.umd.edu (where's my thing)\\nSubject: WHAT car is this!?\\nNntp-Posting-Host: rac3.wam.umd.edu\\nOrganization: University of Maryland, College Park\\nLines: 15\\n\\n I was wondering if anyone out there could enlighten me on this car I saw\\nthe other day. It was a 2-door sports car, looked to be from the late 60s/\\nearly 70s. It was called a Bricklin. The doors were really small. In addition,\\nthe front bumper was separate from the rest of the body. This is \\nall I know. If anyone can tellme a model name, engine specs, years\\nof production, where this car is made, history, or whatever info you\\nhave on this funky looking car, please e-mail.\\n\\nThanks,\\n- IL\\n   ---- brought to you by your neighborhood Lerxst ----\\n\\n\\n\\n\\n\""
      ]
     },
     "execution_count": 15,
     "metadata": {},
     "output_type": "execute_result"
    }
   ],
   "source": [
    "df_train['article'][0]"
   ]
  },
  {
   "cell_type": "code",
   "execution_count": 16,
   "metadata": {},
   "outputs": [
    {
     "data": {
      "text/plain": [
       "'lerxst wamumdedu thing subject car nntppostinghost rac3wamumdedu organization university maryland college park line wonder anyone could enlighten car saw day 2door sport car look late 60 early 70 call bricklin door really small addition front bumper separate rest body know anyone tellme model name engine spec year production car make history whatever info funky look car please email thanks bring neighborhood lerxst'"
      ]
     },
     "execution_count": 16,
     "metadata": {},
     "output_type": "execute_result"
    }
   ],
   "source": [
    "clean_text (df_train['article'][0])"
   ]
  },
  {
   "cell_type": "code",
   "execution_count": 17,
   "metadata": {},
   "outputs": [],
   "source": [
    "df_train['article'] = df_train['article'].apply(lambda x: clean_text(x))"
   ]
  },
  {
   "cell_type": "code",
   "execution_count": 18,
   "metadata": {},
   "outputs": [],
   "source": [
    "df_test['article'] = df_test['article'].apply(lambda x: clean_text(x))"
   ]
  },
  {
   "cell_type": "code",
   "execution_count": 19,
   "metadata": {},
   "outputs": [
    {
     "data": {
      "image/png": "[encoded data removed]",
      "text/plain": [
       "<Figure size 720x576 with 1 Axes>"
      ]
     },
     "metadata": {
      "needs_background": "light"
     },
     "output_type": "display_data"
    }
   ],
   "source": [
    "df_train['word_count'] = df_train['article'].apply(lambda x: len(str(x).split()))\n",
    "plt.figure(figsize=(10,8))\n",
    "sns.histplot(data=df_train, x='word_count')\n",
    "plt.title('Word Count of Articles in Train Data after data cleaning')\n",
    "plt.xlabel('Word Count')\n",
    "plt.ylabel('Article Count')\n",
    "plt.show()"
   ]
  },
  {
   "cell_type": "code",
   "execution_count": 20,
   "metadata": {},
   "outputs": [
    {
     "name": "stdout",
     "output_type": "stream",
     "text": [
      "Percentage of Training Articles having less than 300 Words:92.05%\n"
     ]
    }
   ],
   "source": [
    "train_articles = (sum(df_train['word_count'] < 300)/df_train.shape[0])*100\n",
    "print('Percentage of Training Articles having less than 300 Words:{:.2f}%'.format(train_articles))"
   ]
  },
  {
   "cell_type": "code",
   "execution_count": 21,
   "metadata": {},
   "outputs": [
    {
     "data": {
      "image/png": "[encoded data removed]",
      "text/plain": [
       "<Figure size 720x576 with 1 Axes>"
      ]
     },
     "metadata": {
      "needs_background": "light"
     },
     "output_type": "display_data"
    }
   ],
   "source": [
    "df_test['word_count'] = df_test['article'].apply(lambda x: len(str(x).split()))\n",
    "plt.figure(figsize=(10,8))\n",
    "sns.histplot(data=df_test, x='word_count')\n",
    "plt.title('Word Count of Articles in Test Data after data cleaning')\n",
    "plt.xlabel('Word Count')\n",
    "plt.ylabel('Article Count')\n",
    "plt.show()"
   ]
  },
  {
   "cell_type": "code",
   "execution_count": 22,
   "metadata": {},
   "outputs": [
    {
     "name": "stdout",
     "output_type": "stream",
     "text": [
      "Percentage of Test Articles having less than 300 Words:92.37%\n"
     ]
    }
   ],
   "source": [
    "test_articles = (sum(df_test['word_count'] < 300)/df_test.shape[0])*100\n",
    "print('Percentage of Test Articles having less than 300 Words:{:.2f}%'.format(test_articles))"
   ]
  },
  {
   "cell_type": "code",
   "execution_count": 23,
   "metadata": {},
   "outputs": [],
   "source": [
    "X_train = df_train['article']\n",
    "y_train = df_train['label']\n",
    "X_test = df_test['article']\n",
    "y_test = df_test['label']"
   ]
  },
  {
   "cell_type": "code",
   "execution_count": 24,
   "metadata": {},
   "outputs": [
    {
     "name": "stdout",
     "output_type": "stream",
     "text": [
      "X_train: (11314,)\n",
      "X_test: (7532,)\n",
      "y_train: (11314,)\n",
      "y_test: (7532,)\n"
     ]
    }
   ],
   "source": [
    "print(\"X_train:\", X_train.shape)\n",
    "print(\"X_test:\", X_test.shape)\n",
    "print(\"y_train:\", y_train.shape)\n",
    "print(\"y_test:\", y_test.shape)"
   ]
  },
  {
   "cell_type": "code",
   "execution_count": 25,
   "metadata": {},
   "outputs": [],
   "source": [
    "tokenizer = Tokenizer(num_words=100000)\n",
    "tokenizer.fit_on_texts(X_train)"
   ]
  },
  {
   "cell_type": "code",
   "execution_count": 26,
   "metadata": {},
   "outputs": [
    {
     "data": {
      "text/plain": [
       "{1: 'line',\n",
       " 2: 'subject',\n",
       " 3: 'organization',\n",
       " 4: 'would',\n",
       " 5: 'one',\n",
       " 6: 'write',\n",
       " 7: 'use',\n",
       " 8: 'get',\n",
       " 9: 'say',\n",
       " 10: 'article',\n",
       " 11: 'know',\n",
       " 12: 'people',\n",
       " 13: 'like',\n",
       " 14: 'make',\n",
       " 15: 'think',\n",
       " 16: 'university',\n",
       " 17: 'time',\n",
       " 18: 'nntppostinghost',\n",
       " 19: 'max',\n",
       " 20: 'well',\n",
       " 21: 'good',\n",
       " 22: 'also',\n",
       " 23: 'see',\n",
       " 24: 'new',\n",
       " 25: 'work',\n",
       " 26: 'system',\n",
       " 27: 'could',\n",
       " 28: 'take',\n",
       " 29: 'year',\n",
       " 30: 'want',\n",
       " 31: 'go',\n",
       " 32: 'right',\n",
       " 33: 'need',\n",
       " 34: 'come',\n",
       " 35: 'even',\n",
       " 36: 'thing',\n",
       " 37: 'problem',\n",
       " 38: 'way',\n",
       " 39: 'may',\n",
       " 40: 'look',\n",
       " 41: 'give',\n",
       " 42: 'god',\n",
       " 43: 'file',\n",
       " 44: 'find',\n",
       " 45: 'many',\n",
       " 46: 'state',\n",
       " 47: 'first',\n",
       " 48: 'two',\n",
       " 49: 'much',\n",
       " 50: 'question',\n",
       " 51: 'distribution',\n",
       " 52: 'try',\n",
       " 53: 'call',\n",
       " 54: 'point',\n",
       " 55: 'program',\n",
       " 56: 'run',\n",
       " 57: 'world',\n",
       " 58: 'anyone',\n",
       " 59: 'post',\n",
       " 60: 'drive',\n",
       " 61: 'believe',\n",
       " 62: 'tell',\n",
       " 63: 'mean',\n",
       " 64: 'seem',\n",
       " 65: 'number',\n",
       " 66: 'computer',\n",
       " 67: 'help',\n",
       " 68: 'please',\n",
       " 69: 'something',\n",
       " 70: 'window',\n",
       " 71: 'really',\n",
       " 72: 'include',\n",
       " 73: 'read',\n",
       " 74: 'back',\n",
       " 75: 'since',\n",
       " 76: 'day',\n",
       " 77: 'case',\n",
       " 78: 'email',\n",
       " 79: 'still',\n",
       " 80: 'information',\n",
       " 81: 'game',\n",
       " 82: 'key',\n",
       " 83: 'law',\n",
       " 84: 'government',\n",
       " 85: 'part',\n",
       " 86: 'start',\n",
       " 87: 'last',\n",
       " 88: 'must',\n",
       " 89: 'group',\n",
       " 90: 'thanks',\n",
       " 91: 'usa',\n",
       " 92: 'never',\n",
       " 93: 'let',\n",
       " 94: 'ask',\n",
       " 95: 'might',\n",
       " 96: 'replyto',\n",
       " 97: 'car',\n",
       " 98: 'support',\n",
       " 99: 'another',\n",
       " 100: 'sure',\n",
       " 101: 'without',\n",
       " 102: 'follow',\n",
       " 103: 'space',\n",
       " 104: 'version',\n",
       " 105: 'set',\n",
       " 106: 'name',\n",
       " 107: 'david',\n",
       " 108: 'etc',\n",
       " 109: 'keep',\n",
       " 110: 'long',\n",
       " 111: 'power',\n",
       " 112: 'put',\n",
       " 113: 'fact',\n",
       " 114: 'data',\n",
       " 115: 'science',\n",
       " 116: 'someone',\n",
       " 117: 'great',\n",
       " 118: 'available',\n",
       " 119: 'do',\n",
       " 120: 'reason',\n",
       " 121: 'list',\n",
       " 122: 'card',\n",
       " 123: 'send',\n",
       " 124: 'team',\n",
       " 125: 'lot',\n",
       " 126: 'show',\n",
       " 127: 'change',\n",
       " 128: 'high',\n",
       " 129: 'christian',\n",
       " 130: 'gun',\n",
       " 131: 'little',\n",
       " 132: 'john',\n",
       " 133: 'chip',\n",
       " 134: 'bad',\n",
       " 135: 'place',\n",
       " 136: 'however',\n",
       " 137: 'play',\n",
       " 138: 'software',\n",
       " 139: 'opinion',\n",
       " 140: 'anything',\n",
       " 141: 'around',\n",
       " 142: 'every',\n",
       " 143: 'probably',\n",
       " 144: 'course',\n",
       " 145: 'leave',\n",
       " 146: 'best',\n",
       " 147: 'true',\n",
       " 148: 'word',\n",
       " 149: 'consider',\n",
       " 150: 'book',\n",
       " 151: 'happen',\n",
       " 152: 'end',\n",
       " 153: 'life',\n",
       " 154: 'old',\n",
       " 155: 'public',\n",
       " 156: 'technology',\n",
       " 157: 'least',\n",
       " 158: 'second',\n",
       " 159: 'different',\n",
       " 160: 'kill',\n",
       " 161: 'talk',\n",
       " 162: 'bit',\n",
       " 163: 'claim',\n",
       " 164: 'live',\n",
       " 165: 'enough',\n",
       " 166: 'order',\n",
       " 167: 'note',\n",
       " 168: 'center',\n",
       " 169: 'research',\n",
       " 170: 'provide',\n",
       " 171: 'image',\n",
       " 172: 'base',\n",
       " 173: 'writes',\n",
       " 174: 'buy',\n",
       " 175: 'jesus',\n",
       " 176: 'control',\n",
       " 177: '1993',\n",
       " 178: 'idea',\n",
       " 179: 'message',\n",
       " 180: 'hard',\n",
       " 181: 'source',\n",
       " 182: 'service',\n",
       " 183: 'issue',\n",
       " 184: 'armenian',\n",
       " 185: 'far',\n",
       " 186: 'possible',\n",
       " 187: 'actually',\n",
       " 188: 'example',\n",
       " 189: 'either',\n",
       " 190: 'though',\n",
       " 191: 'big',\n",
       " 192: 'inc',\n",
       " 193: 'real',\n",
       " 194: 'answer',\n",
       " 195: 'cause',\n",
       " 196: 'b8f',\n",
       " 197: 'person',\n",
       " 198: 'child',\n",
       " 199: 'rather',\n",
       " 200: 'nothing',\n",
       " 201: 'mail',\n",
       " 202: 'next',\n",
       " 203: 'mark',\n",
       " 204: 'driver',\n",
       " 205: 'internet',\n",
       " 206: 'else',\n",
       " 207: 'machine',\n",
       " 208: 'american',\n",
       " 209: 'wrong',\n",
       " 210: 'standard',\n",
       " 211: 'free',\n",
       " 212: 'access',\n",
       " 213: 'man',\n",
       " 214: 'address',\n",
       " 215: 'exist',\n",
       " 216: 'phone',\n",
       " 217: 'large',\n",
       " 218: 'a86',\n",
       " 219: 'build',\n",
       " 220: 'allow',\n",
       " 221: 'yes',\n",
       " 222: 'human',\n",
       " 223: 'disk',\n",
       " 224: 'maybe',\n",
       " 225: 'win',\n",
       " 226: 'bill',\n",
       " 227: 'national',\n",
       " 228: 'player',\n",
       " 229: 'code',\n",
       " 230: 'able',\n",
       " 231: 'hand',\n",
       " 232: 'user',\n",
       " 233: 'others',\n",
       " 234: 'always',\n",
       " 235: 'turn',\n",
       " 236: 'hear',\n",
       " 237: 'report',\n",
       " 238: 'price',\n",
       " 239: 'info',\n",
       " 240: 'type',\n",
       " 241: 'keywords',\n",
       " 242: 'require',\n",
       " 243: 'kind',\n",
       " 244: 'several',\n",
       " 245: 'today',\n",
       " 246: 'general',\n",
       " 247: 'israel',\n",
       " 248: 'small',\n",
       " 249: 'home',\n",
       " 250: 'area',\n",
       " 251: 'yet',\n",
       " 252: 'sound',\n",
       " 253: 'less',\n",
       " 254: 'view',\n",
       " 255: 'quite',\n",
       " 256: 'ever',\n",
       " 257: '145',\n",
       " 258: 'sale',\n",
       " 259: 'three',\n",
       " 260: 'pay',\n",
       " 261: 'result',\n",
       " 262: 'cost',\n",
       " 263: 'sell',\n",
       " 264: 'become',\n",
       " 265: 'away',\n",
       " 266: 'open',\n",
       " 267: 'application',\n",
       " 268: 'week',\n",
       " 269: 'test',\n",
       " 270: 'remember',\n",
       " 271: 'speed',\n",
       " 272: 'check',\n",
       " 273: 'move',\n",
       " 274: 'news',\n",
       " 275: 'company',\n",
       " 276: 'create',\n",
       " 277: 'study',\n",
       " 278: 'color',\n",
       " 279: 'president',\n",
       " 280: 'hold',\n",
       " 281: 'country',\n",
       " 282: 'whether',\n",
       " 283: 'current',\n",
       " 284: 'steve',\n",
       " 285: 'mac',\n",
       " 286: 'side',\n",
       " 287: 'feel',\n",
       " 288: 'design',\n",
       " 289: 'encryption',\n",
       " 290: 'agree',\n",
       " 291: 'already',\n",
       " 292: 'money',\n",
       " 293: 'michael',\n",
       " 294: 'war',\n",
       " 295: 'understand',\n",
       " 296: 'department',\n",
       " 297: 'evidence',\n",
       " 298: 'netcomcom',\n",
       " 299: 'value',\n",
       " 300: 'force',\n",
       " 301: 'display',\n",
       " 302: 'institute',\n",
       " 303: 'rule',\n",
       " 304: 'argument',\n",
       " 305: 'graphic',\n",
       " 306: 'assume',\n",
       " 307: 'matter',\n",
       " 308: 'lead',\n",
       " 309: 'love',\n",
       " 310: 'stop',\n",
       " 311: 'box',\n",
       " 312: 'offer',\n",
       " 313: 'local',\n",
       " 314: 'ago',\n",
       " 315: 'jew',\n",
       " 316: 'apr',\n",
       " 317: 'low',\n",
       " 318: 'mention',\n",
       " 319: 'city',\n",
       " 320: 'add',\n",
       " 321: 'bible',\n",
       " 322: 'server',\n",
       " 323: 'perhaps',\n",
       " 324: 'copy',\n",
       " 325: 'memory',\n",
       " 326: 'experience',\n",
       " 327: 'house',\n",
       " 328: 'robert',\n",
       " 329: 'woman',\n",
       " 330: 'fax',\n",
       " 331: 'clipper',\n",
       " 332: 'act',\n",
       " 333: 'hope',\n",
       " 334: 'package',\n",
       " 335: 'guy',\n",
       " 336: 'difference',\n",
       " 337: 'care',\n",
       " 338: 'mind',\n",
       " 339: 'whole',\n",
       " 340: 'close',\n",
       " 341: 'pretty',\n",
       " 342: 'lose',\n",
       " 343: 'april',\n",
       " 344: 'stuff',\n",
       " 345: 'interest',\n",
       " 346: 'mike',\n",
       " 347: 'return',\n",
       " 348: 'attack',\n",
       " 349: 'paul',\n",
       " 350: 'begin',\n",
       " 351: 'network',\n",
       " 352: 'job',\n",
       " 353: 'communication',\n",
       " 354: 'die',\n",
       " 355: 'expect',\n",
       " 356: 'member',\n",
       " 357: 'jim',\n",
       " 358: 'church',\n",
       " 359: 'deal',\n",
       " 360: 'carry',\n",
       " 361: 'contact',\n",
       " 362: 'israeli',\n",
       " 363: 'turkish',\n",
       " 364: 'interested',\n",
       " 365: 'appear',\n",
       " 366: 'device',\n",
       " 367: 'religion',\n",
       " 368: 'head',\n",
       " 369: 'sun',\n",
       " 370: 'death',\n",
       " 371: 'bike',\n",
       " 372: 'save',\n",
       " 373: 'canada',\n",
       " 374: 'model',\n",
       " 375: 'everything',\n",
       " 376: 'product',\n",
       " 377: 'important',\n",
       " 378: 'month',\n",
       " 379: 'comment',\n",
       " 380: 'accept',\n",
       " 381: 'school',\n",
       " 382: 'everyone',\n",
       " 383: 'fire',\n",
       " 384: 'error',\n",
       " 385: 'fast',\n",
       " 386: 'hit',\n",
       " 387: 'rate',\n",
       " 388: 'level',\n",
       " 389: 'light',\n",
       " 390: 'original',\n",
       " 391: 'easy',\n",
       " 392: 'action',\n",
       " 393: 'truth',\n",
       " 394: '1d9',\n",
       " 395: 'guess',\n",
       " 396: 'often',\n",
       " 397: 'white',\n",
       " 398: 'almost',\n",
       " 399: 'sort',\n",
       " 400: 'monitor',\n",
       " 401: 'scsi',\n",
       " 402: 'reference',\n",
       " 403: 'articleid',\n",
       " 404: 'effect',\n",
       " 405: 'advance',\n",
       " 406: 'form',\n",
       " 407: 'simply',\n",
       " 408: 'friend',\n",
       " 409: 'format',\n",
       " 410: 'weapon',\n",
       " 411: 'speak',\n",
       " 412: 'full',\n",
       " 413: 'video',\n",
       " 414: 'body',\n",
       " 415: 'board',\n",
       " 416: 'engineering',\n",
       " 417: 'dept',\n",
       " 418: 'statement',\n",
       " 419: 'wonder',\n",
       " 420: 'bring',\n",
       " 421: 'cover',\n",
       " 422: 'season',\n",
       " 423: 'arm',\n",
       " 424: 'size',\n",
       " 425: 'position',\n",
       " 426: 'instead',\n",
       " 427: 'although',\n",
       " 428: 'certainly',\n",
       " 429: 'history',\n",
       " 430: 'division',\n",
       " 431: 'california',\n",
       " 432: 'plan',\n",
       " 433: 'anybody',\n",
       " 434: 'regard',\n",
       " 435: 'single',\n",
       " 436: 'couple',\n",
       " 437: 'ground',\n",
       " 438: 'anyway',\n",
       " 439: 'xnewsreader',\n",
       " 440: 'discussion',\n",
       " 441: 'college',\n",
       " 442: 'summary',\n",
       " 443: 'men',\n",
       " 444: 'later',\n",
       " 445: 'hell',\n",
       " 446: 'output',\n",
       " 447: 'suggest',\n",
       " 448: 'mode',\n",
       " 449: 'correct',\n",
       " 450: 'receive',\n",
       " 451: 'press',\n",
       " 452: 'event',\n",
       " 453: 'ftp',\n",
       " 454: 'explain',\n",
       " 455: 'sense',\n",
       " 456: 'project',\n",
       " 457: 'crime',\n",
       " 458: 'unless',\n",
       " 459: 'security',\n",
       " 460: 'black',\n",
       " 461: 'present',\n",
       " 462: 'drug',\n",
       " 463: 'break',\n",
       " 464: 'top',\n",
       " 465: 'appreciate',\n",
       " 466: 'function',\n",
       " 467: 'hockey',\n",
       " 468: 'process',\n",
       " 469: '100',\n",
       " 470: 'situation',\n",
       " 471: 'entry',\n",
       " 472: 'clinton',\n",
       " 473: 'release',\n",
       " 474: 'major',\n",
       " 475: 'similar',\n",
       " 476: 'unix',\n",
       " 477: 'reply',\n",
       " 478: 'site',\n",
       " 479: 'certain',\n",
       " 480: 'faith',\n",
       " 481: 'apple',\n",
       " 482: 'continue',\n",
       " 483: 'san',\n",
       " 484: 'earth',\n",
       " 485: 'net',\n",
       " 486: 'individual',\n",
       " 487: 'term',\n",
       " 488: 'purpose',\n",
       " 489: 'face',\n",
       " 490: 'clear',\n",
       " 491: 'period',\n",
       " 492: 'quote',\n",
       " 493: 'within',\n",
       " 494: 'request',\n",
       " 495: 'likely',\n",
       " 496: 'private',\n",
       " 497: 'road',\n",
       " 498: 'late',\n",
       " 499: 'police',\n",
       " 500: 'policy',\n",
       " 501: 'goal',\n",
       " 502: 'suppose',\n",
       " 503: 'figure',\n",
       " 504: 'jewish',\n",
       " 505: 'record',\n",
       " 506: 'learn',\n",
       " 507: 'office',\n",
       " 508: 'stand',\n",
       " 509: 'nice',\n",
       " 510: 'land',\n",
       " 511: 'date',\n",
       " 512: 'decide',\n",
       " 513: 'christ',\n",
       " 514: 'simple',\n",
       " 515: 'via',\n",
       " 516: 'windows',\n",
       " 517: 'faq',\n",
       " 518: 'usually',\n",
       " 519: 'screen',\n",
       " 520: 'hardware',\n",
       " 521: 'atheist',\n",
       " 522: 'protect',\n",
       " 523: 'strong',\n",
       " 524: 'exactly',\n",
       " 525: 'saw',\n",
       " 526: 'except',\n",
       " 527: 'involve',\n",
       " 528: 'young',\n",
       " 529: 'especially',\n",
       " 530: 'dave',\n",
       " 531: 'early',\n",
       " 532: 'heard',\n",
       " 533: 'response',\n",
       " 534: 'fan',\n",
       " 535: 'mine',\n",
       " 536: 'washington',\n",
       " 537: 'sorry',\n",
       " 538: 'section',\n",
       " 539: 'keith',\n",
       " 540: 'nasa',\n",
       " 541: 'york',\n",
       " 542: 'wait',\n",
       " 543: 'text',\n",
       " 544: 'detail',\n",
       " 545: 'tax',\n",
       " 546: 'per',\n",
       " 547: 'gmt',\n",
       " 548: 'society',\n",
       " 549: 'widget',\n",
       " 550: 'million',\n",
       " 551: 'pick',\n",
       " 552: 'short',\n",
       " 553: 'health',\n",
       " 554: 'corporation',\n",
       " 555: 'page',\n",
       " 556: 'watch',\n",
       " 557: 'tin',\n",
       " 558: 'bank',\n",
       " 559: 'fine',\n",
       " 560: 'dod',\n",
       " 561: 'common',\n",
       " 562: 'pittsburgh',\n",
       " 563: 'limit',\n",
       " 564: 'western',\n",
       " 565: 'business',\n",
       " 566: 'league',\n",
       " 567: 'thus',\n",
       " 568: 'night',\n",
       " 569: 'dead',\n",
       " 570: 'cut',\n",
       " 571: 'launch',\n",
       " 572: 'condition',\n",
       " 573: 'attempt',\n",
       " 574: 'radio',\n",
       " 575: 'story',\n",
       " 576: 'food',\n",
       " 577: 'increase',\n",
       " 578: 'particular',\n",
       " 579: 'bob',\n",
       " 580: 'brian',\n",
       " 581: 'manager',\n",
       " 582: 'cheap',\n",
       " 583: 'apply',\n",
       " 584: 'rest',\n",
       " 585: 'produce',\n",
       " 586: 'port',\n",
       " 587: 'among',\n",
       " 588: 'bus',\n",
       " 589: 'option',\n",
       " 590: 'ibm',\n",
       " 591: 'belief',\n",
       " 592: 'pass',\n",
       " 593: 'air',\n",
       " 594: 'political',\n",
       " 595: 'score',\n",
       " 596: 'james',\n",
       " 597: 'contain',\n",
       " 598: 'concern',\n",
       " 599: '2di',\n",
       " 600: 'water',\n",
       " 601: 'red',\n",
       " 602: 'mouse',\n",
       " 603: 'express',\n",
       " 604: 'handle',\n",
       " 605: 'fail',\n",
       " 606: 'command',\n",
       " 607: 'court',\n",
       " 608: 'define',\n",
       " 609: 'therefore',\n",
       " 610: 'chance',\n",
       " 611: 'moral',\n",
       " 612: 'method',\n",
       " 613: 'third',\n",
       " 614: 'tape',\n",
       " 615: 'accord',\n",
       " 616: 'future',\n",
       " 617: 'field',\n",
       " 618: 'whatever',\n",
       " 619: 'draw',\n",
       " 620: 'compare',\n",
       " 621: 'switch',\n",
       " 622: 'past',\n",
       " 623: 'military',\n",
       " 624: 'controller',\n",
       " 625: 'toronto',\n",
       " 626: 'smith',\n",
       " 627: 'paper',\n",
       " 628: 'king',\n",
       " 629: 'unit',\n",
       " 630: 'due',\n",
       " 631: 'bhj',\n",
       " 632: 'authority',\n",
       " 633: 'wire',\n",
       " 634: 'theory',\n",
       " 635: 'texas',\n",
       " 636: 'author',\n",
       " 637: 'anonymous',\n",
       " 638: 'develop',\n",
       " 639: 'miss',\n",
       " 640: 'front',\n",
       " 641: 'personal',\n",
       " 642: 'shot',\n",
       " 643: 'directory',\n",
       " 644: 'total',\n",
       " 645: 'engine',\n",
       " 646: 'tool',\n",
       " 647: 'object',\n",
       " 648: 'solution',\n",
       " 649: 'andrew',\n",
       " 650: 'four',\n",
       " 651: 'criminal',\n",
       " 652: 'library',\n",
       " 653: 'peter',\n",
       " 654: 'final',\n",
       " 655: 'frank',\n",
       " 656: 'sometimes',\n",
       " 657: 'flame',\n",
       " 658: 'special',\n",
       " 659: 'upon',\n",
       " 660: 'family',\n",
       " 661: 'medium',\n",
       " 662: 'specific',\n",
       " 663: 'murder',\n",
       " 664: 'voice',\n",
       " 665: 'federal',\n",
       " 666: 'ram',\n",
       " 667: 'bear',\n",
       " 668: 'tom',\n",
       " 669: 'recently',\n",
       " 670: 'chicago',\n",
       " 671: 'fall',\n",
       " 672: 'series',\n",
       " 673: 'algorithm',\n",
       " 674: 'sign',\n",
       " 675: 'agency',\n",
       " 676: 'worth',\n",
       " 677: 'describe',\n",
       " 678: 'trade',\n",
       " 679: 'resource',\n",
       " 680: 'soon',\n",
       " 681: 'baseball',\n",
       " 682: 'behind',\n",
       " 683: 'greek',\n",
       " 684: 'near',\n",
       " 685: 'secret',\n",
       " 686: 'judge',\n",
       " 687: 'richard',\n",
       " 688: 'letter',\n",
       " 689: 'class',\n",
       " 690: 'along',\n",
       " 691: 'together',\n",
       " 692: 'choose',\n",
       " 693: 'international',\n",
       " 694: 'motif',\n",
       " 695: 'plus',\n",
       " 696: 'font',\n",
       " 697: 'complete',\n",
       " 698: 'wish',\n",
       " 699: 'scott',\n",
       " 700: 'muslim',\n",
       " 701: 'interface',\n",
       " 702: 'party',\n",
       " 703: 'technical',\n",
       " 704: 'religious',\n",
       " 705: 'feature',\n",
       " 706: 'official',\n",
       " 707: 'share',\n",
       " 708: 'station',\n",
       " 709: 'citizen',\n",
       " 710: 'giz',\n",
       " 711: 'lie',\n",
       " 712: 'amount',\n",
       " 713: 'peace',\n",
       " 714: 'previous',\n",
       " 715: 'firearm',\n",
       " 716: 'account',\n",
       " 717: 'delete',\n",
       " 718: '1992',\n",
       " 719: 'doubt',\n",
       " 720: 'meet',\n",
       " 721: 'prove',\n",
       " 722: 'father',\n",
       " 723: 'arab',\n",
       " 724: 'legal',\n",
       " 725: 'administration',\n",
       " 726: 'russian',\n",
       " 727: 'picture',\n",
       " 728: 'market',\n",
       " 729: 'approach',\n",
       " 730: 'various',\n",
       " 731: 'laboratory',\n",
       " 732: 'privacy',\n",
       " 733: 'necessary',\n",
       " 734: 'compute',\n",
       " 735: 'sin',\n",
       " 736: 'knowledge',\n",
       " 737: 'block',\n",
       " 738: 'occur',\n",
       " 739: 'development',\n",
       " 740: 'disclaimer',\n",
       " 741: 'manual',\n",
       " 742: 'minute',\n",
       " 743: 'medical',\n",
       " 744: 'currently',\n",
       " 745: 'choice',\n",
       " 746: 'nhl',\n",
       " 747: 'performance',\n",
       " 748: 'average',\n",
       " 749: 'slow',\n",
       " 750: 'printer',\n",
       " 751: 'notice',\n",
       " 752: 'thought',\n",
       " 753: 'burn',\n",
       " 754: 'fix',\n",
       " 755: 'age',\n",
       " 756: 'chris',\n",
       " 757: 'cable',\n",
       " 758: 'avoid',\n",
       " 759: 'otherwise',\n",
       " 760: 'population',\n",
       " 761: 'north',\n",
       " 762: 'thank',\n",
       " 763: 'insurance',\n",
       " 764: 'forget',\n",
       " 765: 'supply',\n",
       " 766: 'quality',\n",
       " 767: 'defense',\n",
       " 768: 'replace',\n",
       " 769: 'title',\n",
       " 770: 'remove',\n",
       " 771: 'thomas',\n",
       " 772: 'germany',\n",
       " 773: 'none',\n",
       " 774: 'spend',\n",
       " 775: 'outside',\n",
       " 776: 'univ',\n",
       " 777: 'operation',\n",
       " 778: 'hour',\n",
       " 779: 'ide',\n",
       " 780: 'owner',\n",
       " 781: 'effort',\n",
       " 782: 'clearly',\n",
       " 783: 'fight',\n",
       " 784: 'fit',\n",
       " 785: 'charge',\n",
       " 786: 'son',\n",
       " 787: 'community',\n",
       " 788: 'doctor',\n",
       " 789: 'freedom',\n",
       " 790: 'christianity',\n",
       " 791: 'shall',\n",
       " 792: 'remain',\n",
       " 793: 'eric',\n",
       " 794: 'united',\n",
       " 795: 'language',\n",
       " 796: 'input',\n",
       " 797: 'objective',\n",
       " 798: 'stay',\n",
       " 799: 'serial',\n",
       " 800: 'modem',\n",
       " 801: 'fbi',\n",
       " 802: 'purchase',\n",
       " 803: 'pat',\n",
       " 804: 'vote',\n",
       " 805: 'document',\n",
       " 806: 'activity',\n",
       " 807: 'load',\n",
       " 808: 'sit',\n",
       " 809: 'online',\n",
       " 810: 'serious',\n",
       " 811: 'realize',\n",
       " 812: 'america',\n",
       " 813: 'publish',\n",
       " 814: 'print',\n",
       " 815: 'search',\n",
       " 816: 'basic',\n",
       " 817: 'practice',\n",
       " 818: 'prevent',\n",
       " 819: 'main',\n",
       " 820: 'convert',\n",
       " 821: 'newsgroup',\n",
       " 822: 'digital',\n",
       " 823: 'refer',\n",
       " 824: 'eye',\n",
       " 825: 'george',\n",
       " 826: 'morality',\n",
       " 827: 'willing',\n",
       " 828: 'commercial',\n",
       " 829: 'keyboard',\n",
       " 830: 'gas',\n",
       " 831: 'count',\n",
       " 832: 'street',\n",
       " 833: 'gary',\n",
       " 834: 'kid',\n",
       " 835: 'completely',\n",
       " 836: 'armenia',\n",
       " 837: 'blue',\n",
       " 838: 'gordon',\n",
       " 839: 'student',\n",
       " 840: 'drop',\n",
       " 841: 'jon',\n",
       " 842: 'inside',\n",
       " 843: 'turkey',\n",
       " 844: 'ship',\n",
       " 845: 'boston',\n",
       " 846: 'half',\n",
       " 847: 'safety',\n",
       " 848: 'depend',\n",
       " 849: 'satellite',\n",
       " 850: 'orbit',\n",
       " 851: 'serve',\n",
       " 852: 'grant',\n",
       " 853: 'nature',\n",
       " 854: 'decision',\n",
       " 855: 'lack',\n",
       " 856: 'existence',\n",
       " 857: 'respond',\n",
       " 858: 'material',\n",
       " 859: 'suggestion',\n",
       " 860: 'normal',\n",
       " 861: 'tim',\n",
       " 862: 'determine',\n",
       " 863: 'secure',\n",
       " 864: 'mass',\n",
       " 865: 'south',\n",
       " 866: 'dan',\n",
       " 867: 'argue',\n",
       " 868: 'disease',\n",
       " 869: 'reach',\n",
       " 870: 'beat',\n",
       " 871: 'stephanopoulos',\n",
       " 872: 'corp',\n",
       " 873: 'lab',\n",
       " 874: 'scientific',\n",
       " 875: 'transfer',\n",
       " 876: 'mile',\n",
       " 877: 'trust',\n",
       " 878: 'thousand',\n",
       " 879: 'range',\n",
       " 880: 'connect',\n",
       " 881: 'fund',\n",
       " 882: 'indeed',\n",
       " 883: 'congress',\n",
       " 884: 'finally',\n",
       " 885: 'obtain',\n",
       " 886: 'adam',\n",
       " 887: 'archive',\n",
       " 888: 'dealer',\n",
       " 889: 'uunet',\n",
       " 890: 'room',\n",
       " 891: 'lord',\n",
       " 892: 'useful',\n",
       " 893: 'throw',\n",
       " 894: 'star',\n",
       " 895: 'mission',\n",
       " 896: 'turk',\n",
       " 897: 'easily',\n",
       " 898: 'matthew',\n",
       " 899: 'door',\n",
       " 900: 'inreplyto',\n",
       " 901: 'msg',\n",
       " 902: 'definition',\n",
       " 903: 'reasonable',\n",
       " 904: 'west',\n",
       " 905: 'rid',\n",
       " 906: 'generally',\n",
       " 907: 'advice',\n",
       " 908: 'happy',\n",
       " 909: 'obviously',\n",
       " 910: 'moon',\n",
       " 911: 'floppy',\n",
       " 912: 'intend',\n",
       " 913: 'raise',\n",
       " 914: 'internal',\n",
       " 915: 'usenet',\n",
       " 916: 'amendment',\n",
       " 917: 'directly',\n",
       " 918: 'ten',\n",
       " 919: 'nation',\n",
       " 920: 'discuss',\n",
       " 921: 'difficult',\n",
       " 922: 'education',\n",
       " 923: 'stupid',\n",
       " 924: 'wing',\n",
       " 925: '550',\n",
       " 926: 'addition',\n",
       " 927: 'necessarily',\n",
       " 928: 'reserve',\n",
       " 929: 'illinois',\n",
       " 930: 'respect',\n",
       " 931: 'conference',\n",
       " 932: 'doug',\n",
       " 933: 'magazine',\n",
       " 934: 'direct',\n",
       " 935: 'character',\n",
       " 936: 'shoot',\n",
       " 937: 'unfortunately',\n",
       " 938: 'instal',\n",
       " 939: 'vehicle',\n",
       " 940: 'license',\n",
       " 941: 'los',\n",
       " 942: 'blood',\n",
       " 943: 'enforcement',\n",
       " 944: 'imagine',\n",
       " 945: 'basis',\n",
       " 946: 'henry',\n",
       " 947: 'store',\n",
       " 948: 'joe',\n",
       " 949: 'trouble',\n",
       " 950: 'obvious',\n",
       " 951: 'entire',\n",
       " 952: 'playoff',\n",
       " 953: 'somebody',\n",
       " 954: 'reduce',\n",
       " 955: 'signal',\n",
       " 956: 'roger',\n",
       " 957: 'measure',\n",
       " 958: 'oil',\n",
       " 959: 'conclusion',\n",
       " 960: 'east',\n",
       " 961: 'circuit',\n",
       " 962: 'wife',\n",
       " 963: 'electronic',\n",
       " 964: 'folk',\n",
       " 965: 'neither',\n",
       " 966: 'heart',\n",
       " 967: 'aid',\n",
       " 968: 'item',\n",
       " 969: 'evil',\n",
       " 970: 'associate',\n",
       " 971: 'pull',\n",
       " 972: 'colorado',\n",
       " 973: 'hole',\n",
       " 974: 'trial',\n",
       " 975: 'excellent',\n",
       " 976: 'apparently',\n",
       " 977: 'risk',\n",
       " 978: 'link',\n",
       " 979: 'recent',\n",
       " 980: 'park',\n",
       " 981: 'stick',\n",
       " 982: 'suspect',\n",
       " 983: 'ride',\n",
       " 984: 'client',\n",
       " 985: 'dog',\n",
       " 986: 'van',\n",
       " 987: 'alone',\n",
       " 988: 'upgrade',\n",
       " 989: 'round',\n",
       " 990: 'step',\n",
       " 991: 'originator',\n",
       " 992: 'ron',\n",
       " 993: 'suffer',\n",
       " 994: 'environment',\n",
       " 995: 'appropriate',\n",
       " 996: 'whose',\n",
       " 997: 'soldier',\n",
       " 998: 'ability',\n",
       " 999: 'commit',\n",
       " 1000: 'ken',\n",
       " ...}"
      ]
     },
     "execution_count": 26,
     "metadata": {},
     "output_type": "execute_result"
    }
   ],
   "source": [
    "tokenizer.index_word"
   ]
  },
  {
   "cell_type": "code",
   "execution_count": 27,
   "metadata": {},
   "outputs": [
    {
     "name": "stdout",
     "output_type": "stream",
     "text": [
      "Vocab Size: 148442\n"
     ]
    }
   ],
   "source": [
    "vocab_size = len(tokenizer.index_word) + 1\n",
    "print('Vocab Size:', vocab_size)"
   ]
  },
  {
   "cell_type": "code",
   "execution_count": 28,
   "metadata": {},
   "outputs": [],
   "source": [
    "X_train_token = tokenizer.texts_to_sequences(X_train)\n",
    "X_test_token = tokenizer.texts_to_sequences(X_test)"
   ]
  },
  {
   "cell_type": "code",
   "execution_count": 29,
   "metadata": {},
   "outputs": [
    {
     "name": "stdout",
     "output_type": "stream",
     "text": [
      "First Intance Text:\n",
      "\n",
      "lerxst wamumdedu thing subject car nntppostinghost rac3wamumdedu organization university maryland college park line wonder anyone could enlighten car saw day 2door sport car look late 60 early 70 call bricklin door really small addition front bumper separate rest body know anyone tellme model name engine spec year production car make history whatever info funky look car please email thanks bring neighborhood lerxst\n",
      "\n",
      "First Intance Total Words: 62\n"
     ]
    }
   ],
   "source": [
    "print(\"First Intance Text:\\n\")\n",
    "print(X_train[0])\n",
    "print(\"\\nFirst Intance Total Words:\", len(str(X_train[0]).split()))"
   ]
  },
  {
   "cell_type": "code",
   "execution_count": 30,
   "metadata": {},
   "outputs": [
    {
     "name": "stdout",
     "output_type": "stream",
     "text": [
      "First Intance Text Sequence:\n",
      "\n",
      "[26912, 4593, 36, 2, 97, 18, 18457, 3, 16, 2162, 441, 980, 1, 419, 58, 27, 5485, 97, 525, 76, 18458, 1043, 97, 40, 498, 9326, 531, 7189, 53, 26913, 899, 71, 248, 926, 640, 5283, 1127, 584, 414, 11, 58, 41656, 374, 106, 645, 1922, 29, 1952, 97, 14, 429, 618, 239, 18459, 40, 97, 68, 78, 90, 420, 4079, 26912]\n",
      "\n",
      "First Intance Text Sequence Length: 62\n"
     ]
    }
   ],
   "source": [
    "print(\"First Intance Text Sequence:\\n\")\n",
    "print(X_train_token[0])\n",
    "print(\"\\nFirst Intance Text Sequence Length:\", len(X_train_token[0]))"
   ]
  },
  {
   "cell_type": "code",
   "execution_count": 31,
   "metadata": {},
   "outputs": [
    {
     "name": "stdout",
     "output_type": "stream",
     "text": [
      "Second Intance Text:\n",
      "\n",
      "guykuo carsonuwashingtonedu guy kuo subject clock poll final call summary final call clock report keywords acceleration clock upgrade articleid shelley1qvfo9innc3s organization university washington line nntppostinghost carsonuwashingtonedu fair number brave soul upgrade clock oscillator share experience poll please send brief message detail experience procedure top speed attain cpu rat speed add card adapter heat sink hour usage per day floppy disk functionality 800 floppy especially request summarize next two day please add network knowledge base do clock upgrade answer poll thanks guy kuo guykuo uwashingtonedu\n",
      "\n",
      "Second Intance Total Words: 84\n"
     ]
    }
   ],
   "source": [
    "print(\"Second Intance Text:\\n\")\n",
    "print(X_train[1])\n",
    "print(\"\\nSecond Intance Total Words:\", len(str(X_train[1]).split()))"
   ]
  },
  {
   "cell_type": "code",
   "execution_count": 32,
   "metadata": {},
   "outputs": [
    {
     "name": "stdout",
     "output_type": "stream",
     "text": [
      "Second Intance Text Sequence:\n",
      "\n",
      "[10702, 3064, 335, 7862, 2, 1006, 3096, 654, 53, 442, 654, 53, 1006, 237, 241, 3574, 1006, 988, 403, 62852, 3, 16, 536, 1, 18, 3064, 1260, 65, 1333, 1334, 988, 1006, 5984, 707, 326, 3096, 68, 123, 2079, 179, 544, 326, 1822, 464, 271, 7863, 1245, 2219, 271, 320, 122, 1839, 1619, 4196, 778, 2321, 546, 76, 911, 223, 3957, 1632, 911, 529, 494, 3922, 202, 48, 76, 68, 320, 351, 736, 172, 119, 1006, 988, 194, 3096, 90, 335, 7862, 10702, 4438]\n",
      "\n",
      "Second Intance Text Sequence Length: 84\n"
     ]
    }
   ],
   "source": [
    "print(\"Second Intance Text Sequence:\\n\")\n",
    "print(X_train_token[1])\n",
    "print(\"\\nSecond Intance Text Sequence Length:\", len(X_train_token[1]))"
   ]
  },
  {
   "cell_type": "code",
   "execution_count": 33,
   "metadata": {},
   "outputs": [],
   "source": [
    "sequence_len = 300\n",
    "X_train_token = pad_sequences(X_train_token, padding='post', maxlen=sequence_len)\n",
    "X_test_token = pad_sequences(X_test_token, padding='post', maxlen=sequence_len)"
   ]
  },
  {
   "cell_type": "code",
   "execution_count": 34,
   "metadata": {},
   "outputs": [
    {
     "name": "stdout",
     "output_type": "stream",
     "text": [
      "First Intance Text Sequence:\n",
      "\n",
      "[26912  4593    36     2    97    18 18457     3    16  2162   441   980\n",
      "     1   419    58    27  5485    97   525    76 18458  1043    97    40\n",
      "   498  9326   531  7189    53 26913   899    71   248   926   640  5283\n",
      "  1127   584   414    11    58 41656   374   106   645  1922    29  1952\n",
      "    97    14   429   618   239 18459    40    97    68    78    90   420\n",
      "  4079 26912     0     0     0     0     0     0     0     0     0     0\n",
      "     0     0     0     0     0     0     0     0     0     0     0     0\n",
      "     0     0     0     0     0     0     0     0     0     0     0     0\n",
      "     0     0     0     0     0     0     0     0     0     0     0     0\n",
      "     0     0     0     0     0     0     0     0     0     0     0     0\n",
      "     0     0     0     0     0     0     0     0     0     0     0     0\n",
      "     0     0     0     0     0     0     0     0     0     0     0     0\n",
      "     0     0     0     0     0     0     0     0     0     0     0     0\n",
      "     0     0     0     0     0     0     0     0     0     0     0     0\n",
      "     0     0     0     0     0     0     0     0     0     0     0     0\n",
      "     0     0     0     0     0     0     0     0     0     0     0     0\n",
      "     0     0     0     0     0     0     0     0     0     0     0     0\n",
      "     0     0     0     0     0     0     0     0     0     0     0     0\n",
      "     0     0     0     0     0     0     0     0     0     0     0     0\n",
      "     0     0     0     0     0     0     0     0     0     0     0     0\n",
      "     0     0     0     0     0     0     0     0     0     0     0     0\n",
      "     0     0     0     0     0     0     0     0     0     0     0     0\n",
      "     0     0     0     0     0     0     0     0     0     0     0     0\n",
      "     0     0     0     0     0     0     0     0     0     0     0     0\n",
      "     0     0     0     0     0     0     0     0     0     0     0     0]\n",
      "\n",
      "First Intance Text Sequence Length: 300\n"
     ]
    }
   ],
   "source": [
    "print(\"First Intance Text Sequence:\\n\")\n",
    "print(X_train_token[0])\n",
    "print(\"\\nFirst Intance Text Sequence Length:\", len(X_train_token[0]))"
   ]
  },
  {
   "cell_type": "code",
   "execution_count": 35,
   "metadata": {},
   "outputs": [
    {
     "name": "stdout",
     "output_type": "stream",
     "text": [
      "Second Intance Text Sequence:\n",
      "\n",
      "[10702  3064   335  7862     2  1006  3096   654    53   442   654    53\n",
      "  1006   237   241  3574  1006   988   403 62852     3    16   536     1\n",
      "    18  3064  1260    65  1333  1334   988  1006  5984   707   326  3096\n",
      "    68   123  2079   179   544   326  1822   464   271  7863  1245  2219\n",
      "   271   320   122  1839  1619  4196   778  2321   546    76   911   223\n",
      "  3957  1632   911   529   494  3922   202    48    76    68   320   351\n",
      "   736   172   119  1006   988   194  3096    90   335  7862 10702  4438\n",
      "     0     0     0     0     0     0     0     0     0     0     0     0\n",
      "     0     0     0     0     0     0     0     0     0     0     0     0\n",
      "     0     0     0     0     0     0     0     0     0     0     0     0\n",
      "     0     0     0     0     0     0     0     0     0     0     0     0\n",
      "     0     0     0     0     0     0     0     0     0     0     0     0\n",
      "     0     0     0     0     0     0     0     0     0     0     0     0\n",
      "     0     0     0     0     0     0     0     0     0     0     0     0\n",
      "     0     0     0     0     0     0     0     0     0     0     0     0\n",
      "     0     0     0     0     0     0     0     0     0     0     0     0\n",
      "     0     0     0     0     0     0     0     0     0     0     0     0\n",
      "     0     0     0     0     0     0     0     0     0     0     0     0\n",
      "     0     0     0     0     0     0     0     0     0     0     0     0\n",
      "     0     0     0     0     0     0     0     0     0     0     0     0\n",
      "     0     0     0     0     0     0     0     0     0     0     0     0\n",
      "     0     0     0     0     0     0     0     0     0     0     0     0\n",
      "     0     0     0     0     0     0     0     0     0     0     0     0\n",
      "     0     0     0     0     0     0     0     0     0     0     0     0\n",
      "     0     0     0     0     0     0     0     0     0     0     0     0]\n",
      "\n",
      "Second Intance Text Sequence Length: 300\n"
     ]
    }
   ],
   "source": [
    "print(\"Second Intance Text Sequence:\\n\")\n",
    "print(X_train_token[1])\n",
    "print(\"\\nSecond Intance Text Sequence Length:\", len(X_train_token[1]))"
   ]
  },
  {
   "cell_type": "markdown",
   "metadata": {},
   "source": [
    "### Training Deep Neural Networks using pre-trained Glove Embeddings"
   ]
  },
  {
   "cell_type": "code",
   "execution_count": 36,
   "metadata": {},
   "outputs": [],
   "source": [
    "home = os.path.expanduser('~')\n",
    "glove_embedding_filepath = os.path.join(home, \".torch/datasets/glove_embeddings/glove.6B.100d.txt\")"
   ]
  },
  {
   "cell_type": "code",
   "execution_count": 37,
   "metadata": {},
   "outputs": [],
   "source": [
    "def create_embedding_matrix (filepath, word_index, embedding_dim):\n",
    "    vocab_size = len(word_index) + 1\n",
    "    embedding_matrix = np.zeros((vocab_size, embedding_dim))\n",
    "    \n",
    "    with open(filepath) as file:\n",
    "        for line in file:\n",
    "            word, *vector = line.split()\n",
    "            if word in word_index:\n",
    "                idx = word_index[word]\n",
    "                embedding_matrix[idx] = np.array(vector, dtype=np.float32)[:embedding_dim]\n",
    "    \n",
    "    return embedding_matrix"
   ]
  },
  {
   "cell_type": "code",
   "execution_count": 38,
   "metadata": {},
   "outputs": [],
   "source": [
    "embedding_dim = 100\n",
    "embedding_matrix = create_embedding_matrix(glove_embedding_filepath, tokenizer.word_index, embedding_dim)"
   ]
  },
  {
   "cell_type": "code",
   "execution_count": 39,
   "metadata": {},
   "outputs": [
    {
     "name": "stderr",
     "output_type": "stream",
     "text": [
      "2022-06-25 12:34:22.568573: I tensorflow/compiler/jit/xla_cpu_device.cc:41] Not creating XLA devices, tf_xla_enable_xla_devices not set\n",
      "2022-06-25 12:34:22.571446: I tensorflow/core/platform/cpu_feature_guard.cc:142] This TensorFlow binary is optimized with oneAPI Deep Neural Network Library (oneDNN) to use the following CPU instructions in performance-critical operations:  SSE4.1 SSE4.2 AVX AVX2 FMA\n",
      "To enable them in other operations, rebuild TensorFlow with the appropriate compiler flags.\n",
      "2022-06-25 12:34:22.577635: I tensorflow/core/common_runtime/process_util.cc:146] Creating new thread pool with default inter op setting: 2. Tune using inter_op_parallelism_threads for best performance.\n"
     ]
    },
    {
     "name": "stdout",
     "output_type": "stream",
     "text": [
      "Model: \"sequential\"\n",
      "_________________________________________________________________\n",
      "Layer (type)                 Output Shape              Param #   \n",
      "=================================================================\n",
      "embedding (Embedding)        (None, 300, 100)          14844200  \n",
      "_________________________________________________________________\n",
      "conv1d (Conv1D)              (None, 296, 128)          64128     \n",
      "_________________________________________________________________\n",
      "global_max_pooling1d (Global (None, 128)               0         \n",
      "_________________________________________________________________\n",
      "dense (Dense)                (None, 64)                8256      \n",
      "_________________________________________________________________\n",
      "dense_1 (Dense)              (None, 32)                2080      \n",
      "_________________________________________________________________\n",
      "dense_2 (Dense)              (None, 20)                660       \n",
      "=================================================================\n",
      "Total params: 14,919,324\n",
      "Trainable params: 14,919,324\n",
      "Non-trainable params: 0\n",
      "_________________________________________________________________\n"
     ]
    }
   ],
   "source": [
    "model = Sequential()\n",
    "model.add(layers.Embedding(input_dim=vocab_size, output_dim=embedding_dim, input_length=sequence_len))\n",
    "model.add(layers.Conv1D(filters=128, kernel_size=5, activation='relu'))\n",
    "model.add(layers.GlobalMaxPool1D())\n",
    "model.add(layers.Dense(64, activation='relu'))\n",
    "model.add(layers.Dense(32, activation='relu'))\n",
    "model.add(layers.Dense(20, activation='softmax'))\n",
    "model.compile(optimizer='adam', loss='sparse_categorical_crossentropy', metrics=['accuracy'])\n",
    "model.summary()"
   ]
  },
  {
   "cell_type": "code",
   "execution_count": 40,
   "metadata": {},
   "outputs": [
    {
     "name": "stderr",
     "output_type": "stream",
     "text": [
      "2022-06-25 12:34:23.275201: I tensorflow/compiler/mlir/mlir_graph_optimization_pass.cc:116] None of the MLIR optimization passes are enabled (registered 2)\n",
      "2022-06-25 12:34:23.300920: I tensorflow/core/platform/profile_utils/cpu_utils.cc:112] CPU Frequency: 2099940000 Hz\n"
     ]
    },
    {
     "name": "stdout",
     "output_type": "stream",
     "text": [
      "Epoch 1/20\n",
      "89/89 [==============================] - 59s 630ms/step - loss: 2.9595 - accuracy: 0.1138 - val_loss: 2.3608 - val_accuracy: 0.3245\n",
      "Epoch 2/20\n",
      "89/89 [==============================] - 50s 565ms/step - loss: 1.5598 - accuracy: 0.5898 - val_loss: 0.9828 - val_accuracy: 0.7201\n",
      "Epoch 3/20\n",
      "89/89 [==============================] - 58s 653ms/step - loss: 0.2335 - accuracy: 0.9569 - val_loss: 0.8948 - val_accuracy: 0.7631\n",
      "Epoch 4/20\n",
      "89/89 [==============================] - 55s 614ms/step - loss: 0.0403 - accuracy: 0.9970 - val_loss: 0.9336 - val_accuracy: 0.7638\n",
      "Epoch 5/20\n",
      "89/89 [==============================] - 44s 490ms/step - loss: 0.0140 - accuracy: 0.9993 - val_loss: 0.9916 - val_accuracy: 0.7592\n",
      "Epoch 6/20\n",
      "89/89 [==============================] - 48s 534ms/step - loss: 0.0079 - accuracy: 0.9992 - val_loss: 1.0325 - val_accuracy: 0.7578\n",
      "Epoch 7/20\n",
      "89/89 [==============================] - 50s 560ms/step - loss: 0.0096 - accuracy: 0.9985 - val_loss: 1.0367 - val_accuracy: 0.7638\n",
      "Epoch 8/20\n",
      "89/89 [==============================] - 48s 541ms/step - loss: 0.0052 - accuracy: 0.9989 - val_loss: 1.0546 - val_accuracy: 0.7629\n",
      "Epoch 9/20\n",
      "89/89 [==============================] - 49s 545ms/step - loss: 0.0043 - accuracy: 0.9993 - val_loss: 1.0747 - val_accuracy: 0.7646\n",
      "Epoch 10/20\n",
      "89/89 [==============================] - 49s 547ms/step - loss: 0.0046 - accuracy: 0.9993 - val_loss: 1.1012 - val_accuracy: 0.7605\n",
      "Epoch 11/20\n",
      "89/89 [==============================] - 44s 500ms/step - loss: 0.0015 - accuracy: 0.9998 - val_loss: 1.1526 - val_accuracy: 0.7553\n",
      "Epoch 12/20\n",
      "89/89 [==============================] - 43s 485ms/step - loss: 0.0041 - accuracy: 0.9992 - val_loss: 1.1394 - val_accuracy: 0.7634\n",
      "Epoch 13/20\n",
      "89/89 [==============================] - 44s 495ms/step - loss: 0.0036 - accuracy: 0.9991 - val_loss: 1.1544 - val_accuracy: 0.7597\n",
      "Epoch 14/20\n",
      "89/89 [==============================] - 43s 484ms/step - loss: 0.0030 - accuracy: 0.9992 - val_loss: 1.2220 - val_accuracy: 0.7536\n",
      "Epoch 15/20\n",
      "89/89 [==============================] - 44s 491ms/step - loss: 9.9957e-04 - accuracy: 0.9999 - val_loss: 1.1861 - val_accuracy: 0.7584\n",
      "Epoch 16/20\n",
      "89/89 [==============================] - 43s 489ms/step - loss: 0.0016 - accuracy: 0.9997 - val_loss: 1.2337 - val_accuracy: 0.7562\n",
      "Epoch 17/20\n",
      "89/89 [==============================] - 43s 487ms/step - loss: 0.0011 - accuracy: 0.9997 - val_loss: 1.2047 - val_accuracy: 0.7608\n",
      "Epoch 18/20\n",
      "89/89 [==============================] - 43s 487ms/step - loss: 6.1997e-04 - accuracy: 1.0000 - val_loss: 1.2720 - val_accuracy: 0.7539\n",
      "Epoch 19/20\n",
      "89/89 [==============================] - 44s 493ms/step - loss: 0.0019 - accuracy: 0.9995 - val_loss: 1.2472 - val_accuracy: 0.7605\n",
      "Epoch 20/20\n",
      "89/89 [==============================] - 44s 493ms/step - loss: 6.1279e-04 - accuracy: 0.9998 - val_loss: 1.2235 - val_accuracy: 0.7647\n"
     ]
    }
   ],
   "source": [
    "history = model.fit(X_train_token, y_train, epochs=20, validation_data=(X_test_token, y_test), batch_size=128)"
   ]
  },
  {
   "cell_type": "code",
   "execution_count": 41,
   "metadata": {},
   "outputs": [
    {
     "name": "stdout",
     "output_type": "stream",
     "text": [
      "        loss  accuracy  val_loss  val_accuracy\n",
      "0   2.846578  0.202051  2.360817      0.324482\n",
      "1   1.140805  0.709829  0.982819      0.720127\n",
      "2   0.203573  0.958900  0.894774      0.763144\n",
      "3   0.036105  0.996641  0.933649      0.763808\n",
      "4   0.014403  0.998763  0.991637      0.759161\n",
      "5   0.009420  0.998851  1.032481      0.757833\n",
      "6   0.009345  0.998586  1.036683      0.763808\n",
      "7   0.005411  0.998939  1.054557      0.762878\n",
      "8   0.004285  0.999205  1.074672      0.764604\n",
      "9   0.004339  0.999293  1.101174      0.760489\n",
      "10  0.002901  0.999381  1.152618      0.755311\n",
      "11  0.003112  0.999381  1.139402      0.763409\n",
      "12  0.003092  0.999381  1.154414      0.759692\n",
      "13  0.002861  0.999381  1.221977      0.753585\n",
      "14  0.001516  0.999646  1.186094      0.758364\n",
      "15  0.002195  0.999470  1.233693      0.756240\n",
      "16  0.001180  0.999646  1.204741      0.760754\n",
      "17  0.001107  0.999823  1.271995      0.753850\n",
      "18  0.001149  0.999646  1.247182      0.760489\n",
      "19  0.000599  0.999823  1.223479      0.764737\n"
     ]
    }
   ],
   "source": [
    "metrics_df = pd.DataFrame(history.history)\n",
    "print(metrics_df)"
   ]
  },
  {
   "cell_type": "code",
   "execution_count": 42,
   "metadata": {},
   "outputs": [
    {
     "data": {
      "image/png": "[encoded data removed]",
      "text/plain": [
       "<Figure size 720x360 with 1 Axes>"
      ]
     },
     "metadata": {
      "needs_background": "light"
     },
     "output_type": "display_data"
    }
   ],
   "source": [
    "plt.figure(figsize=(10,5))\n",
    "plt.plot(metrics_df.index, metrics_df.loss)\n",
    "plt.plot(metrics_df.index, metrics_df.val_loss)\n",
    "plt.title('Newsgroup 20 Dataset Neural Network Training with Corpus Word Embeddings')\n",
    "plt.xlabel('Epochs')\n",
    "plt.ylabel('Categorical Crossentropy Loss')\n",
    "plt.legend(['Training Loss', 'Validation Loss'])\n",
    "plt.show()"
   ]
  },
  {
   "cell_type": "code",
   "execution_count": 43,
   "metadata": {},
   "outputs": [
    {
     "data": {
      "image/png": "[encoded data removed]",
      "text/plain": [
       "<Figure size 720x360 with 1 Axes>"
      ]
     },
     "metadata": {
      "needs_background": "light"
     },
     "output_type": "display_data"
    }
   ],
   "source": [
    "plt.figure(figsize=(10,5))\n",
    "plt.plot(metrics_df.index, metrics_df.accuracy)\n",
    "plt.plot(metrics_df.index, metrics_df.val_accuracy)\n",
    "plt.title('Newsgroup 20 Dataset Neural Network Training with Corpus Word Embeddings')\n",
    "plt.xlabel('Epochs')\n",
    "plt.ylabel('Acuracy')\n",
    "plt.legend(['Training Accuracy', 'Validation Accuracy'])\n",
    "plt.show()"
   ]
  },
  {
   "cell_type": "code",
   "execution_count": 44,
   "metadata": {},
   "outputs": [
    {
     "name": "stdout",
     "output_type": "stream",
     "text": [
      "Model: \"sequential_1\"\n",
      "_________________________________________________________________\n",
      "Layer (type)                 Output Shape              Param #   \n",
      "=================================================================\n",
      "embedding_1 (Embedding)      (None, 300, 100)          14844200  \n",
      "_________________________________________________________________\n",
      "conv1d_1 (Conv1D)            (None, 296, 128)          64128     \n",
      "_________________________________________________________________\n",
      "global_max_pooling1d_1 (Glob (None, 128)               0         \n",
      "_________________________________________________________________\n",
      "dense_3 (Dense)              (None, 64)                8256      \n",
      "_________________________________________________________________\n",
      "dense_4 (Dense)              (None, 32)                2080      \n",
      "_________________________________________________________________\n",
      "dense_5 (Dense)              (None, 20)                660       \n",
      "=================================================================\n",
      "Total params: 14,919,324\n",
      "Trainable params: 14,919,324\n",
      "Non-trainable params: 0\n",
      "_________________________________________________________________\n"
     ]
    }
   ],
   "source": [
    "model = Sequential()\n",
    "model.add(layers.Embedding(input_dim=vocab_size, output_dim=embedding_dim, input_length=sequence_len, weights = [embedding_matrix], trainable = True))\n",
    "model.add(layers.Conv1D(filters=128, kernel_size=5, activation='relu'))\n",
    "model.add(layers.GlobalMaxPool1D())\n",
    "model.add(layers.Dense(64, activation='relu'))\n",
    "model.add(layers.Dense(32, activation='relu'))\n",
    "model.add(layers.Dense(20, activation='softmax'))\n",
    "model.compile(optimizer='adam', loss='sparse_categorical_crossentropy', metrics=['accuracy'])\n",
    "model.summary()"
   ]
  },
  {
   "cell_type": "code",
   "execution_count": 45,
   "metadata": {},
   "outputs": [
    {
     "name": "stdout",
     "output_type": "stream",
     "text": [
      "Epoch 1/20\n",
      "89/89 [==============================] - 45s 487ms/step - loss: 2.7945 - accuracy: 0.1667 - val_loss: 1.8235 - val_accuracy: 0.4871\n",
      "Epoch 2/20\n",
      "89/89 [==============================] - 44s 490ms/step - loss: 1.3179 - accuracy: 0.6327 - val_loss: 1.1814 - val_accuracy: 0.6188\n",
      "Epoch 3/20\n",
      "89/89 [==============================] - 43s 486ms/step - loss: 0.6032 - accuracy: 0.8385 - val_loss: 1.0249 - val_accuracy: 0.6868\n",
      "Epoch 4/20\n",
      "89/89 [==============================] - 42s 478ms/step - loss: 0.2948 - accuracy: 0.9422 - val_loss: 0.9665 - val_accuracy: 0.7061\n",
      "Epoch 5/20\n",
      "89/89 [==============================] - 42s 476ms/step - loss: 0.1334 - accuracy: 0.9840 - val_loss: 1.0275 - val_accuracy: 0.7075\n",
      "Epoch 6/20\n",
      "89/89 [==============================] - 42s 471ms/step - loss: 0.0558 - accuracy: 0.9965 - val_loss: 1.0316 - val_accuracy: 0.7165\n",
      "Epoch 7/20\n",
      "89/89 [==============================] - 43s 480ms/step - loss: 0.0286 - accuracy: 0.9993 - val_loss: 1.0595 - val_accuracy: 0.7200\n",
      "Epoch 8/20\n",
      "89/89 [==============================] - 43s 484ms/step - loss: 0.0164 - accuracy: 0.9995 - val_loss: 1.0879 - val_accuracy: 0.7224\n",
      "Epoch 9/20\n",
      "89/89 [==============================] - 44s 489ms/step - loss: 0.0117 - accuracy: 0.9993 - val_loss: 1.1042 - val_accuracy: 0.7234\n",
      "Epoch 10/20\n",
      "89/89 [==============================] - 43s 486ms/step - loss: 0.0091 - accuracy: 0.9994 - val_loss: 1.1497 - val_accuracy: 0.7248\n",
      "Epoch 11/20\n",
      "89/89 [==============================] - 44s 488ms/step - loss: 0.0074 - accuracy: 0.9996 - val_loss: 1.1312 - val_accuracy: 0.7282\n",
      "Epoch 12/20\n",
      "89/89 [==============================] - 43s 482ms/step - loss: 0.0060 - accuracy: 0.9996 - val_loss: 1.1963 - val_accuracy: 0.7268\n",
      "Epoch 13/20\n",
      "89/89 [==============================] - 43s 483ms/step - loss: 0.0066 - accuracy: 0.9995 - val_loss: 1.2322 - val_accuracy: 0.7232\n",
      "Epoch 14/20\n",
      "89/89 [==============================] - 43s 478ms/step - loss: 0.0050 - accuracy: 0.9997 - val_loss: 1.2288 - val_accuracy: 0.7258\n",
      "Epoch 15/20\n",
      "89/89 [==============================] - 42s 475ms/step - loss: 0.0049 - accuracy: 0.9996 - val_loss: 1.2362 - val_accuracy: 0.7261\n",
      "Epoch 16/20\n",
      "89/89 [==============================] - 43s 488ms/step - loss: 0.0043 - accuracy: 0.9996 - val_loss: 1.2276 - val_accuracy: 0.7307\n",
      "Epoch 17/20\n",
      "89/89 [==============================] - 43s 486ms/step - loss: 0.0055 - accuracy: 0.9993 - val_loss: 1.2738 - val_accuracy: 0.7163\n",
      "Epoch 18/20\n",
      "89/89 [==============================] - 44s 490ms/step - loss: 0.0029 - accuracy: 0.9998 - val_loss: 1.3816 - val_accuracy: 0.7102\n",
      "Epoch 19/20\n",
      "89/89 [==============================] - 43s 483ms/step - loss: 0.0059 - accuracy: 0.9994 - val_loss: 1.2873 - val_accuracy: 0.7256\n",
      "Epoch 20/20\n",
      "89/89 [==============================] - 43s 485ms/step - loss: 0.0074 - accuracy: 0.9993 - val_loss: 1.2494 - val_accuracy: 0.7304\n"
     ]
    }
   ],
   "source": [
    "history1 = model.fit(X_train_token, y_train, epochs=20, validation_data=(X_test_token, y_test), batch_size=128)"
   ]
  },
  {
   "cell_type": "code",
   "execution_count": 46,
   "metadata": {},
   "outputs": [
    {
     "name": "stdout",
     "output_type": "stream",
     "text": [
      "        loss  accuracy  val_loss  val_accuracy\n",
      "0   2.485635  0.277709  1.823494      0.487122\n",
      "1   1.134279  0.675800  1.181438      0.618826\n",
      "2   0.565645  0.847888  1.024888      0.686803\n",
      "3   0.279554  0.941135  0.966511      0.706054\n",
      "4   0.126243  0.982500  1.027518      0.707515\n",
      "5   0.054279  0.996111  1.031550      0.716543\n",
      "6   0.026952  0.998851  1.059474      0.719995\n",
      "7   0.017124  0.999028  1.087930      0.722385\n",
      "8   0.012494  0.999205  1.104241      0.723447\n",
      "9   0.009684  0.999293  1.149722      0.724774\n",
      "10  0.008914  0.999028  1.131223      0.728226\n",
      "11  0.006960  0.999205  1.196285      0.726766\n",
      "12  0.007568  0.999293  1.232153      0.723181\n",
      "13  0.006152  0.999470  1.228833      0.725836\n",
      "14  0.006196  0.999381  1.236231      0.726102\n",
      "15  0.006036  0.999381  1.227614      0.730749\n",
      "16  0.007545  0.999205  1.273850      0.716277\n",
      "17  0.004864  0.999470  1.381622      0.710170\n",
      "18  0.006044  0.999293  1.287276      0.725571\n",
      "19  0.005425  0.999558  1.249408      0.730350\n"
     ]
    }
   ],
   "source": [
    "metrics_df = pd.DataFrame(history1.history)\n",
    "print(metrics_df)"
   ]
  },
  {
   "cell_type": "code",
   "execution_count": 47,
   "metadata": {},
   "outputs": [
    {
     "data": {
      "image/png": "[encoded data removed]",
      "text/plain": [
       "<Figure size 720x360 with 1 Axes>"
      ]
     },
     "metadata": {
      "needs_background": "light"
     },
     "output_type": "display_data"
    }
   ],
   "source": [
    "plt.figure(figsize=(10,5))\n",
    "plt.plot(metrics_df.index, metrics_df.loss)\n",
    "plt.plot(metrics_df.index, metrics_df.val_loss)\n",
    "plt.title('Newsgroup 20 Dataset Neural Network Training with GLOVE Word Embeddings')\n",
    "plt.xlabel('Epochs')\n",
    "plt.ylabel('Categorical Crossentropy Loss')\n",
    "plt.legend(['Training Loss', 'Validation Loss'])\n",
    "plt.show()"
   ]
  },
  {
   "cell_type": "code",
   "execution_count": 48,
   "metadata": {},
   "outputs": [
    {
     "data": {
      "image/png": "[encoded data removed]",
      "text/plain": [
       "<Figure size 720x360 with 1 Axes>"
      ]
     },
     "metadata": {
      "needs_background": "light"
     },
     "output_type": "display_data"
    }
   ],
   "source": [
    "plt.figure(figsize=(10,5))\n",
    "plt.plot(metrics_df.index, metrics_df.accuracy)\n",
    "plt.plot(metrics_df.index, metrics_df.val_accuracy)\n",
    "plt.title('Newsgroup 20 Dataset Neural Network Training with GLOVE Word Embeddings')\n",
    "plt.xlabel('Epochs')\n",
    "plt.ylabel('Acuracy')\n",
    "plt.legend(['Training Accuracy', 'Validation Accuracy'])\n",
    "plt.show()"
   ]
  },
  {
   "cell_type": "code",
   "execution_count": null,
   "metadata": {},
   "outputs": [],
   "source": []
  }
 ],
 "metadata": {
  "interpreter": {
   "hash": "9ba8fe1ea37d8fab6aa2152f3b1f7bdb1ce3c036a65ce11248e194528f488cec"
  },
  "kernelspec": {
   "display_name": "Python 3.9.12 ('aws_labs')",
   "language": "python",
   "name": "python3"
  },
  "language_info": {
   "codemirror_mode": {
    "name": "ipython",
    "version": 3
   },
   "file_extension": ".py",
   "mimetype": "text/x-python",
   "name": "python",
   "nbconvert_exporter": "python",
   "pygments_lexer": "ipython3",
   "version": "3.9.12"
  },
  "orig_nbformat": 4
 },
 "nbformat": 4,
 "nbformat_minor": 2
}
